{
  "nbformat": 4,
  "nbformat_minor": 0,
  "metadata": {
    "colab": {
      "name": "tree_new_bee.ipynb",
      "version": "0.3.2",
      "provenance": [],
      "collapsed_sections": [],
      "include_colab_link": true
    },
    "kernelspec": {
      "name": "python3",
      "display_name": "Python 3"
    }
  },
  "cells": [
    {
      "cell_type": "markdown",
      "metadata": {
        "id": "view-in-github",
        "colab_type": "text"
      },
      "source": [
        "<a href=\"https://colab.research.google.com/github/DavidPu/colab/blob/master/tree_new_bee.ipynb\" target=\"_parent\"><img src=\"https://colab.research.google.com/assets/colab-badge.svg\" alt=\"Open In Colab\"/></a>"
      ]
    },
    {
      "cell_type": "code",
      "metadata": {
        "id": "wa5ZdaOh_hm2",
        "colab_type": "code",
        "colab": {}
      },
      "source": [
        "!pip install graphviz"
      ],
      "execution_count": 0,
      "outputs": []
    },
    {
      "cell_type": "code",
      "metadata": {
        "id": "zh3ZTq_OzzLt",
        "colab_type": "code",
        "colab": {}
      },
      "source": [
        "from IPython.display import Image\n",
        "from graphviz import Digraph\n",
        "\n",
        "\n",
        "\n",
        "class Node(object):\n",
        "  # global Node id for graphviz node.\n",
        "  __gid__ = 0\n",
        "  def __init__(self, v, l_node=None, r_node=None):\n",
        "    self.value = v\n",
        "    self.left = l_node\n",
        "    self.right = r_node\n",
        "    self._gid = 'node_' + str(Node.__gid__)\n",
        "    Node.__gid__ += 1\n",
        "    \n",
        "\n",
        "\n",
        "# https://en.wikipedia.org/wiki/Binary_tree\n",
        "class BinaryTree(object):\n",
        "  def __init__(self, root=None, tree_dict=None):\n",
        "      self.root = root\n",
        "      if isinstance(tree_dict, dict):\n",
        "        self.create_tree(tree_dict, 0)\n",
        "  \n",
        "  def create_tree(self, tree_dict, root=None, level=0):\n",
        "    if not tree_dict:\n",
        "      return\n",
        "\n",
        "    children = [k for k in tree_dict.keys()]\n",
        "    # print(' ' * level*2, children)\n",
        "    assert len(children) <= 2, \"not a binary tree\"\n",
        "    if not children:\n",
        "      return\n",
        "    \n",
        "    if children[0]:\n",
        "      left = Node(children[0])\n",
        "      if not root:\n",
        "        self.root = left\n",
        "        root = self.root\n",
        "      else:\n",
        "        root.left = left\n",
        "\n",
        "      sub_dict = tree_dict[children[0]]\n",
        "      self.create_tree(sub_dict, left, level + 1)\n",
        "    else:\n",
        "      root.left = None\n",
        "\n",
        "    \n",
        "    if len(children) < 2:\n",
        "      return\n",
        "    \n",
        "    right = Node(children[1])\n",
        "\n",
        "    root.right = right\n",
        "    sub_dict = tree_dict[children[1]]\n",
        "    self.create_tree(sub_dict, right, level + 1)\n",
        "    \n",
        "    return\n",
        "      \n",
        "\n",
        "  def invisible_node(self, dot, parent):\n",
        "      invis_node = '#' + parent._gid\n",
        "      dot.node(invis_node, group=parent._gid, style='invis')\n",
        "      dot.edge(parent._gid, invis_node, style='invis')\n",
        "      \n",
        "\n",
        "  # graphviz Binary tree pretty render:\n",
        "  # https://blog.nanpuyue.com/2019/054.html\n",
        "  # https://www.bbsmax.com/A/QV5Zjj475y/  \n",
        "  def BFS(self, dot, root=None):\n",
        "    parent = root or self.root\n",
        "    \n",
        "    if not parent:\n",
        "      return\n",
        "    \n",
        "    dot.node(parent._gid, label=str(parent.value), group=parent._gid)\n",
        "    if parent.left:\n",
        "      self.BFS(dot, parent.left)\n",
        "      dot.edge(parent._gid, parent.left._gid)\n",
        "      self.invisible_node(dot, parent)\n",
        "      \n",
        "    if parent.right:\n",
        "      if not parent.left:\n",
        "        self.invisible_node(dot, parent)\n",
        "        \n",
        "      self.BFS(dot, parent.right)\n",
        "      dot.edge(parent._gid, parent.right._gid)\n",
        "      \n",
        "\n",
        "  def display(self):\n",
        "    dot = Digraph(comment='BinaryTree')\n",
        "    # dot.attr(nodesep=\"0.1\")\n",
        "    self.BFS(dot)\n",
        "    return dot\n",
        "\n",
        "\n",
        "\n",
        "\n",
        "\n",
        "\n"
      ],
      "execution_count": 0,
      "outputs": []
    },
    {
      "cell_type": "code",
      "metadata": {
        "id": "E4a3GGWCjNN7",
        "colab_type": "code",
        "colab": {}
      },
      "source": [
        "# dict literals are ordered: https://mail.python.org/pipermail/python-dev/2017-December/151283.html\n",
        "tree_data = {\n",
        "    2: {\n",
        "     7: {\n",
        "         2: None,\n",
        "         6: {\n",
        "             5: {\n",
        "                7: None,\n",
        "             },\n",
        "             11: {\n",
        "                 22: {\n",
        "                     None:None,\n",
        "                     9: {\n",
        "                         1: {\n",
        "                             100: None\n",
        "                         }\n",
        "                     }\n",
        "                 }\n",
        "             }\n",
        "         }\n",
        "     },\n",
        "     \n",
        "     5: {\n",
        "         100: {\n",
        "             1000: {0: None}\n",
        "         },\n",
        "         9: {\n",
        "             4: {\n",
        "                 100: {\n",
        "                     None: None,\n",
        "                     88: {\n",
        "                         1: {\n",
        "                             None:None,\n",
        "                             'HAHAH':None\n",
        "                         }\n",
        "                     }\n",
        "                 }\n",
        "             }\n",
        "         }\n",
        "     }\n",
        "    }\n",
        "}\n",
        "\n",
        "tree = BinaryTree(tree_dict=tree_data)\n",
        "tree.display()\n"
      ],
      "execution_count": 0,
      "outputs": []
    },
    {
      "cell_type": "code",
      "metadata": {
        "id": "KyZIN-H1yCwo",
        "colab_type": "code",
        "colab": {}
      },
      "source": [
        "tree_data2 = {\n",
        "    'A': {\n",
        "        'B': {\n",
        "            'C': {\n",
        "                'D': None,\n",
        "                'E': None,\n",
        "            },\n",
        "            'F': None,\n",
        "        },\n",
        "        'G': {\n",
        "            'H': {\n",
        "                None:None,\n",
        "                'I':None,\n",
        "            }\n",
        "        }\n",
        "    }\n",
        "}\n",
        "\n",
        "\n",
        "t = BinaryTree(tree_dict=tree_data2)\n",
        "t.display()"
      ],
      "execution_count": 0,
      "outputs": []
    },
    {
      "cell_type": "code",
      "metadata": {
        "id": "p9CWOGNavmFK",
        "colab_type": "code",
        "outputId": "07c32df2-be45-43e2-c7e4-15a4bdeb4edf",
        "colab": {
          "base_uri": "https://localhost:8080/",
          "height": 367
        }
      },
      "source": [
        "tree_root = Node('A',\n",
        "                 Node('B',\n",
        "                     Node('D',\n",
        "                          Node('V'),\n",
        "                          Node('E')\n",
        "                         ),\n",
        "                      Node('F',\n",
        "                          Node('H'),\n",
        "                          Node('G')\n",
        "                          )\n",
        "                     ),\n",
        "                 Node('C',\n",
        "                     Node('I',\n",
        "                          None,\n",
        "                          Node('K')\n",
        "                         )\n",
        "                     )\n",
        "                )\n",
        "\n",
        "t = BinaryTree(root=tree_root)\n",
        "t.display()"
      ],
      "execution_count": 0,
      "outputs": [
        {
          "output_type": "execute_result",
          "data": {
            "text/plain": [
              "<graphviz.dot.Digraph at 0x7f43ba6267b8>"
            ],
            "image/svg+xml": "<?xml version=\"1.0\" encoding=\"UTF-8\" standalone=\"no\"?>\n<!DOCTYPE svg PUBLIC \"-//W3C//DTD SVG 1.1//EN\"\n \"http://www.w3.org/Graphics/SVG/1.1/DTD/svg11.dtd\">\n<!-- Generated by graphviz version 2.40.1 (20161225.0304)\n -->\n<!-- Title: %3 Pages: 1 -->\n<svg width=\"720pt\" height=\"260pt\"\n viewBox=\"0.00 0.00 719.75 260.00\" xmlns=\"http://www.w3.org/2000/svg\" xmlns:xlink=\"http://www.w3.org/1999/xlink\">\n<g id=\"graph0\" class=\"graph\" transform=\"scale(1 1) rotate(0) translate(4 256)\">\n<title>%3</title>\n<polygon fill=\"#ffffff\" stroke=\"transparent\" points=\"-4,4 -4,-256 715.7457,-256 715.7457,4 -4,4\"/>\n<!-- node_70 -->\n<g id=\"node1\" class=\"node\">\n<title>node_70</title>\n<ellipse fill=\"none\" stroke=\"#000000\" cx=\"475\" cy=\"-234\" rx=\"27\" ry=\"18\"/>\n<text text-anchor=\"middle\" x=\"475\" y=\"-230.3\" font-family=\"Times,serif\" font-size=\"14.00\" fill=\"#000000\">A</text>\n</g>\n<!-- node_66 -->\n<g id=\"node2\" class=\"node\">\n<title>node_66</title>\n<ellipse fill=\"none\" stroke=\"#000000\" cx=\"287\" cy=\"-162\" rx=\"27\" ry=\"18\"/>\n<text text-anchor=\"middle\" x=\"287\" y=\"-158.3\" font-family=\"Times,serif\" font-size=\"14.00\" fill=\"#000000\">B</text>\n</g>\n<!-- node_70&#45;&gt;node_66 -->\n<g id=\"edge10\" class=\"edge\">\n<title>node_70&#45;&gt;node_66</title>\n<path fill=\"none\" stroke=\"#000000\" d=\"M451.5698,-225.0267C418.4089,-212.3268 357.6354,-189.0518 319.9446,-174.6171\"/>\n<polygon fill=\"#000000\" stroke=\"#000000\" points=\"321.0198,-171.281 310.4295,-170.973 318.5163,-177.818 321.0198,-171.281\"/>\n</g>\n<!-- #node_70 -->\n<!-- node_70&#45;&gt;#node_70 -->\n<!-- node_69 -->\n<g id=\"node13\" class=\"node\">\n<title>node_69</title>\n<ellipse fill=\"none\" stroke=\"#000000\" cx=\"663\" cy=\"-162\" rx=\"27\" ry=\"18\"/>\n<text text-anchor=\"middle\" x=\"663\" y=\"-158.3\" font-family=\"Times,serif\" font-size=\"14.00\" fill=\"#000000\">C</text>\n</g>\n<!-- node_70&#45;&gt;node_69 -->\n<g id=\"edge16\" class=\"edge\">\n<title>node_70&#45;&gt;node_69</title>\n<path fill=\"none\" stroke=\"#000000\" d=\"M498.4302,-225.0267C531.5911,-212.3268 592.3646,-189.0518 630.0554,-174.6171\"/>\n<polygon fill=\"#000000\" stroke=\"#000000\" points=\"631.4837,-177.818 639.5705,-170.973 628.9802,-171.281 631.4837,-177.818\"/>\n</g>\n<!-- node_62 -->\n<g id=\"node3\" class=\"node\">\n<title>node_62</title>\n<ellipse fill=\"none\" stroke=\"#000000\" cx=\"121\" cy=\"-90\" rx=\"27\" ry=\"18\"/>\n<text text-anchor=\"middle\" x=\"121\" y=\"-86.3\" font-family=\"Times,serif\" font-size=\"14.00\" fill=\"#000000\">D</text>\n</g>\n<!-- node_66&#45;&gt;node_62 -->\n<g id=\"edge4\" class=\"edge\">\n<title>node_66&#45;&gt;node_62</title>\n<path fill=\"none\" stroke=\"#000000\" d=\"M264.2665,-152.1397C235.5384,-139.6793 185.9113,-118.1543 153.2681,-103.9958\"/>\n<polygon fill=\"#000000\" stroke=\"#000000\" points=\"154.2917,-100.6248 143.7247,-99.8565 151.5062,-107.0467 154.2917,-100.6248\"/>\n</g>\n<!-- #node_66 -->\n<!-- node_66&#45;&gt;#node_66 -->\n<!-- node_65 -->\n<g id=\"node8\" class=\"node\">\n<title>node_65</title>\n<ellipse fill=\"none\" stroke=\"#000000\" cx=\"381\" cy=\"-90\" rx=\"27\" ry=\"18\"/>\n<text text-anchor=\"middle\" x=\"381\" y=\"-86.3\" font-family=\"Times,serif\" font-size=\"14.00\" fill=\"#000000\">F</text>\n</g>\n<!-- node_66&#45;&gt;node_65 -->\n<g id=\"edge9\" class=\"edge\">\n<title>node_66&#45;&gt;node_65</title>\n<path fill=\"none\" stroke=\"#000000\" d=\"M305.1241,-148.1177C319.2586,-137.2913 339.0817,-122.1076 354.9216,-109.975\"/>\n<polygon fill=\"#000000\" stroke=\"#000000\" points=\"357.4398,-112.4549 363.2503,-103.5955 353.1832,-106.8978 357.4398,-112.4549\"/>\n</g>\n<!-- node_60 -->\n<g id=\"node4\" class=\"node\">\n<title>node_60</title>\n<ellipse fill=\"none\" stroke=\"#000000\" cx=\"27\" cy=\"-18\" rx=\"27\" ry=\"18\"/>\n<text text-anchor=\"middle\" x=\"27\" y=\"-14.3\" font-family=\"Times,serif\" font-size=\"14.00\" fill=\"#000000\">V</text>\n</g>\n<!-- node_62&#45;&gt;node_60 -->\n<g id=\"edge1\" class=\"edge\">\n<title>node_62&#45;&gt;node_60</title>\n<path fill=\"none\" stroke=\"#000000\" d=\"M102.8759,-76.1177C88.7414,-65.2913 68.9183,-50.1076 53.0784,-37.975\"/>\n<polygon fill=\"#000000\" stroke=\"#000000\" points=\"54.8168,-34.8978 44.7497,-31.5955 50.5602,-40.4549 54.8168,-34.8978\"/>\n</g>\n<!-- #node_62 -->\n<!-- node_62&#45;&gt;#node_62 -->\n<!-- node_61 -->\n<g id=\"node6\" class=\"node\">\n<title>node_61</title>\n<ellipse fill=\"none\" stroke=\"#000000\" cx=\"215\" cy=\"-18\" rx=\"27\" ry=\"18\"/>\n<text text-anchor=\"middle\" x=\"215\" y=\"-14.3\" font-family=\"Times,serif\" font-size=\"14.00\" fill=\"#000000\">E</text>\n</g>\n<!-- node_62&#45;&gt;node_61 -->\n<g id=\"edge3\" class=\"edge\">\n<title>node_62&#45;&gt;node_61</title>\n<path fill=\"none\" stroke=\"#000000\" d=\"M139.1241,-76.1177C153.2586,-65.2913 173.0817,-50.1076 188.9216,-37.975\"/>\n<polygon fill=\"#000000\" stroke=\"#000000\" points=\"191.4398,-40.4549 197.2503,-31.5955 187.1832,-34.8978 191.4398,-40.4549\"/>\n</g>\n<!-- node_63 -->\n<g id=\"node9\" class=\"node\">\n<title>node_63</title>\n<ellipse fill=\"none\" stroke=\"#000000\" cx=\"287\" cy=\"-18\" rx=\"27\" ry=\"18\"/>\n<text text-anchor=\"middle\" x=\"287\" y=\"-14.3\" font-family=\"Times,serif\" font-size=\"14.00\" fill=\"#000000\">H</text>\n</g>\n<!-- node_65&#45;&gt;node_63 -->\n<g id=\"edge6\" class=\"edge\">\n<title>node_65&#45;&gt;node_63</title>\n<path fill=\"none\" stroke=\"#000000\" d=\"M362.8759,-76.1177C348.7414,-65.2913 328.9183,-50.1076 313.0784,-37.975\"/>\n<polygon fill=\"#000000\" stroke=\"#000000\" points=\"314.8168,-34.8978 304.7497,-31.5955 310.5602,-40.4549 314.8168,-34.8978\"/>\n</g>\n<!-- #node_65 -->\n<!-- node_65&#45;&gt;#node_65 -->\n<!-- node_64 -->\n<g id=\"node11\" class=\"node\">\n<title>node_64</title>\n<ellipse fill=\"none\" stroke=\"#000000\" cx=\"475\" cy=\"-18\" rx=\"27\" ry=\"18\"/>\n<text text-anchor=\"middle\" x=\"475\" y=\"-14.3\" font-family=\"Times,serif\" font-size=\"14.00\" fill=\"#000000\">G</text>\n</g>\n<!-- node_65&#45;&gt;node_64 -->\n<g id=\"edge8\" class=\"edge\">\n<title>node_65&#45;&gt;node_64</title>\n<path fill=\"none\" stroke=\"#000000\" d=\"M399.1241,-76.1177C413.2586,-65.2913 433.0817,-50.1076 448.9216,-37.975\"/>\n<polygon fill=\"#000000\" stroke=\"#000000\" points=\"451.4398,-40.4549 457.2503,-31.5955 447.1832,-34.8978 451.4398,-40.4549\"/>\n</g>\n<!-- node_68 -->\n<g id=\"node14\" class=\"node\">\n<title>node_68</title>\n<ellipse fill=\"none\" stroke=\"#000000\" cx=\"569\" cy=\"-90\" rx=\"27\" ry=\"18\"/>\n<text text-anchor=\"middle\" x=\"569\" y=\"-86.3\" font-family=\"Times,serif\" font-size=\"14.00\" fill=\"#000000\">I</text>\n</g>\n<!-- node_69&#45;&gt;node_68 -->\n<g id=\"edge14\" class=\"edge\">\n<title>node_69&#45;&gt;node_68</title>\n<path fill=\"none\" stroke=\"#000000\" d=\"M644.8759,-148.1177C630.7414,-137.2913 610.9183,-122.1076 595.0784,-109.975\"/>\n<polygon fill=\"#000000\" stroke=\"#000000\" points=\"596.8168,-106.8978 586.7497,-103.5955 592.5602,-112.4549 596.8168,-106.8978\"/>\n</g>\n<!-- #node_69 -->\n<!-- node_69&#45;&gt;#node_69 -->\n<!-- #node_68 -->\n<!-- node_68&#45;&gt;#node_68 -->\n<!-- node_67 -->\n<g id=\"node16\" class=\"node\">\n<title>node_67</title>\n<ellipse fill=\"none\" stroke=\"#000000\" cx=\"663\" cy=\"-18\" rx=\"27\" ry=\"18\"/>\n<text text-anchor=\"middle\" x=\"663\" y=\"-14.3\" font-family=\"Times,serif\" font-size=\"14.00\" fill=\"#000000\">K</text>\n</g>\n<!-- node_68&#45;&gt;node_67 -->\n<g id=\"edge13\" class=\"edge\">\n<title>node_68&#45;&gt;node_67</title>\n<path fill=\"none\" stroke=\"#000000\" d=\"M587.1241,-76.1177C601.2586,-65.2913 621.0817,-50.1076 636.9216,-37.975\"/>\n<polygon fill=\"#000000\" stroke=\"#000000\" points=\"639.4398,-40.4549 645.2503,-31.5955 635.1832,-34.8978 639.4398,-40.4549\"/>\n</g>\n</g>\n</svg>\n"
          },
          "metadata": {
            "tags": []
          },
          "execution_count": 37
        }
      ]
    },
    {
      "cell_type": "code",
      "metadata": {
        "id": "GvyWD1gSwdcD",
        "colab_type": "code",
        "colab": {}
      },
      "source": [
        "from graphviz import Digraph\n",
        "from graphviz import Source\n",
        "\n",
        "s = Source(open('mytree.dot', 'r').read())\n",
        "s\n"
      ],
      "execution_count": 0,
      "outputs": []
    }
  ]
}