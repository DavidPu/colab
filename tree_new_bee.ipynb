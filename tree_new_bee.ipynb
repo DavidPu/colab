{
  "nbformat": 4,
  "nbformat_minor": 0,
  "metadata": {
    "colab": {
      "name": "tree_new_bee.ipynb",
      "version": "0.3.2",
      "provenance": [],
      "collapsed_sections": [],
      "include_colab_link": true
    },
    "kernelspec": {
      "name": "python3",
      "display_name": "Python 3"
    }
  },
  "cells": [
    {
      "cell_type": "markdown",
      "metadata": {
        "id": "view-in-github",
        "colab_type": "text"
      },
      "source": [
        "<a href=\"https://colab.research.google.com/github/DavidPu/colab/blob/master/tree_new_bee.ipynb\" target=\"_parent\"><img src=\"https://colab.research.google.com/assets/colab-badge.svg\" alt=\"Open In Colab\"/></a>"
      ]
    },
    {
      "cell_type": "code",
      "metadata": {
        "id": "wa5ZdaOh_hm2",
        "colab_type": "code",
        "colab": {}
      },
      "source": [
        "!pip install graphviz"
      ],
      "execution_count": 0,
      "outputs": []
    },
    {
      "cell_type": "code",
      "metadata": {
        "id": "zh3ZTq_OzzLt",
        "colab_type": "code",
        "colab": {}
      },
      "source": [
        "from IPython.display import Image\n",
        "from graphviz import Digraph\n",
        "\n",
        "\n",
        "\n",
        "class Node(object):\n",
        "  # global Node id for graphviz node.\n",
        "  __gid__ = 0\n",
        "  def __init__(self, v, l_node=None, r_node=None):\n",
        "    self.value = v\n",
        "    self.left = l_node\n",
        "    self.right = r_node\n",
        "    self._gid = 'node_' + str(Node.__gid__)\n",
        "    Node.__gid__ += 1\n",
        "    \n",
        "\n",
        "\n",
        "# https://en.wikipedia.org/wiki/Binary_tree\n",
        "class BinaryTree(object):\n",
        "  def __init__(self, root=None, tree_dict=None):\n",
        "      self.root = root\n",
        "      if isinstance(tree_dict, dict):\n",
        "        self.create_tree(tree_dict, 0)\n",
        "  \n",
        "  def create_tree(self, tree_dict, root=None, level=0):\n",
        "    if not tree_dict:\n",
        "      return\n",
        "\n",
        "    children = [k for k in tree_dict.keys()]\n",
        "    # print(' ' * level*2, children)\n",
        "    assert len(children) <= 2, \"not a binary tree\"\n",
        "    if not children:\n",
        "      return\n",
        "    \n",
        "    if children[0]:\n",
        "      left = Node(children[0])\n",
        "      if not root:\n",
        "        self.root = left\n",
        "        root = self.root\n",
        "      else:\n",
        "        root.left = left\n",
        "\n",
        "      sub_dict = tree_dict[children[0]]\n",
        "      self.create_tree(sub_dict, left, level + 1)\n",
        "    else:\n",
        "      root.left = None\n",
        "\n",
        "    \n",
        "    if len(children) < 2:\n",
        "      return\n",
        "    \n",
        "    right = Node(children[1])\n",
        "\n",
        "    root.right = right\n",
        "    sub_dict = tree_dict[children[1]]\n",
        "    self.create_tree(sub_dict, right, level + 1)\n",
        "    \n",
        "    return\n",
        "      \n",
        "\n",
        "  def invisible_node(self, dot, parent):\n",
        "      invis_node = '#' + parent._gid\n",
        "      dot.node(invis_node, group=parent._gid, style='invis')\n",
        "      dot.edge(parent._gid, invis_node, style='invis')\n",
        "      \n",
        "\n",
        "  # graphviz Binary tree pretty render:\n",
        "  # https://blog.nanpuyue.com/2019/054.html\n",
        "  # https://www.bbsmax.com/A/QV5Zjj475y/  \n",
        "  def BFS(self, dot, root=None):\n",
        "    parent = root or self.root\n",
        "    \n",
        "    if not parent:\n",
        "      return\n",
        "    \n",
        "    dot.node(parent._gid, label=str(parent.value), group=parent._gid)\n",
        "    if parent.left:\n",
        "      self.BFS(dot, parent.left)\n",
        "      dot.edge(parent._gid, parent.left._gid)\n",
        "      self.invisible_node(dot, parent)\n",
        "      \n",
        "    if parent.right:\n",
        "      if not parent.left:\n",
        "        self.invisible_node(dot, parent)\n",
        "        \n",
        "      self.BFS(dot, parent.right)\n",
        "      dot.edge(parent._gid, parent.right._gid)\n",
        "      \n",
        "\n",
        "  def display(self):\n",
        "    dot = Digraph(comment='BinaryTree')\n",
        "    # dot.attr(nodesep=\"0.1\")\n",
        "    self.BFS(dot)\n",
        "    return dot\n",
        "\n",
        "\n",
        "\n",
        "\n",
        "\n",
        "\n"
      ],
      "execution_count": 0,
      "outputs": []
    },
    {
      "cell_type": "code",
      "metadata": {
        "id": "E4a3GGWCjNN7",
        "colab_type": "code",
        "outputId": "ce3c1bda-74a8-4099-e280-a5ce34013922",
        "colab": {
          "base_uri": "https://localhost:8080/",
          "height": 752
        }
      },
      "source": [
        "# dict literals are ordered: https://mail.python.org/pipermail/python-dev/2017-December/151283.html\n",
        "tree_data = {\n",
        "    2: {\n",
        "     7: {\n",
        "         2: None,\n",
        "         6: {\n",
        "             5: {\n",
        "                7: None,\n",
        "             },\n",
        "             11: {\n",
        "                 22: {\n",
        "                     None:None,\n",
        "                     9: {\n",
        "                         1: {\n",
        "                             100: None\n",
        "                         }\n",
        "                     }\n",
        "                 }\n",
        "             }\n",
        "         }\n",
        "     },\n",
        "     \n",
        "     5: {\n",
        "         100: {\n",
        "             1000: {0: None}\n",
        "         },\n",
        "         9: {\n",
        "             4: {\n",
        "                 100: {\n",
        "                     None: None,\n",
        "                     88: {\n",
        "                         1: {\n",
        "                             None:None,\n",
        "                             'HAHAH':None\n",
        "                         }\n",
        "                     }\n",
        "                 }\n",
        "             }\n",
        "         }\n",
        "     }\n",
        "    }\n",
        "}\n",
        "\n",
        "tree = BinaryTree(tree_dict=tree_data)\n",
        "tree.display()\n"
      ],
      "execution_count": 7,
      "outputs": [
        {
          "output_type": "execute_result",
          "data": {
            "text/plain": [
              "<graphviz.dot.Digraph at 0x7f88ca0efb38>"
            ],
            "image/svg+xml": "<?xml version=\"1.0\" encoding=\"UTF-8\" standalone=\"no\"?>\n<!DOCTYPE svg PUBLIC \"-//W3C//DTD SVG 1.1//EN\"\n \"http://www.w3.org/Graphics/SVG/1.1/DTD/svg11.dtd\">\n<!-- Generated by graphviz version 2.40.1 (20161225.0304)\n -->\n<!-- Title: %3 Pages: 1 -->\n<svg width=\"712pt\" height=\"548pt\"\n viewBox=\"0.00 0.00 711.75 548.00\" xmlns=\"http://www.w3.org/2000/svg\" xmlns:xlink=\"http://www.w3.org/1999/xlink\">\n<g id=\"graph0\" class=\"graph\" transform=\"scale(1 1) rotate(0) translate(4 544)\">\n<title>%3</title>\n<polygon fill=\"#ffffff\" stroke=\"transparent\" points=\"-4,4 -4,-544 707.7457,-544 707.7457,4 -4,4\"/>\n<!-- node_0 -->\n<g id=\"node1\" class=\"node\">\n<title>node_0</title>\n<ellipse fill=\"none\" stroke=\"#000000\" cx=\"338\" cy=\"-522\" rx=\"27\" ry=\"18\"/>\n<text text-anchor=\"middle\" x=\"338\" y=\"-518.3\" font-family=\"Times,serif\" font-size=\"14.00\" fill=\"#000000\">2</text>\n</g>\n<!-- node_1 -->\n<g id=\"node2\" class=\"node\">\n<title>node_1</title>\n<ellipse fill=\"none\" stroke=\"#000000\" cx=\"116\" cy=\"-450\" rx=\"27\" ry=\"18\"/>\n<text text-anchor=\"middle\" x=\"116\" y=\"-446.3\" font-family=\"Times,serif\" font-size=\"14.00\" fill=\"#000000\">7</text>\n</g>\n<!-- node_0&#45;&gt;node_1 -->\n<g id=\"edge17\" class=\"edge\">\n<title>node_0&#45;&gt;node_1</title>\n<path fill=\"none\" stroke=\"#000000\" d=\"M313.3939,-514.0196C273.6164,-501.1188 195.1017,-475.6546 150.0053,-461.0287\"/>\n<polygon fill=\"#000000\" stroke=\"#000000\" points=\"150.97,-457.6622 140.378,-457.9064 148.8104,-464.3208 150.97,-457.6622\"/>\n</g>\n<!-- #node_0 -->\n<!-- node_0&#45;&gt;#node_0 -->\n<!-- node_11 -->\n<g id=\"node20\" class=\"node\">\n<title>node_11</title>\n<ellipse fill=\"none\" stroke=\"#000000\" cx=\"560\" cy=\"-450\" rx=\"27\" ry=\"18\"/>\n<text text-anchor=\"middle\" x=\"560\" y=\"-446.3\" font-family=\"Times,serif\" font-size=\"14.00\" fill=\"#000000\">5</text>\n</g>\n<!-- node_0&#45;&gt;node_11 -->\n<g id=\"edge34\" class=\"edge\">\n<title>node_0&#45;&gt;node_11</title>\n<path fill=\"none\" stroke=\"#000000\" d=\"M362.6061,-514.0196C402.3836,-501.1188 480.8983,-475.6546 525.9947,-461.0287\"/>\n<polygon fill=\"#000000\" stroke=\"#000000\" points=\"527.1896,-464.3208 535.622,-457.9064 525.03,-457.6622 527.1896,-464.3208\"/>\n</g>\n<!-- node_2 -->\n<g id=\"node3\" class=\"node\">\n<title>node_2</title>\n<ellipse fill=\"none\" stroke=\"#000000\" cx=\"27\" cy=\"-378\" rx=\"27\" ry=\"18\"/>\n<text text-anchor=\"middle\" x=\"27\" y=\"-374.3\" font-family=\"Times,serif\" font-size=\"14.00\" fill=\"#000000\">2</text>\n</g>\n<!-- node_1&#45;&gt;node_2 -->\n<g id=\"edge1\" class=\"edge\">\n<title>node_1&#45;&gt;node_2</title>\n<path fill=\"none\" stroke=\"#000000\" d=\"M98.4165,-435.7751C85.166,-425.0557 66.8155,-410.2103 52.0339,-398.2522\"/>\n<polygon fill=\"#000000\" stroke=\"#000000\" points=\"54.22,-395.5188 44.2442,-391.9503 49.8173,-400.9609 54.22,-395.5188\"/>\n</g>\n<!-- #node_1 -->\n<!-- node_1&#45;&gt;#node_1 -->\n<!-- node_3 -->\n<g id=\"node5\" class=\"node\">\n<title>node_3</title>\n<ellipse fill=\"none\" stroke=\"#000000\" cx=\"205\" cy=\"-378\" rx=\"27\" ry=\"18\"/>\n<text text-anchor=\"middle\" x=\"205\" y=\"-374.3\" font-family=\"Times,serif\" font-size=\"14.00\" fill=\"#000000\">6</text>\n</g>\n<!-- node_1&#45;&gt;node_3 -->\n<g id=\"edge16\" class=\"edge\">\n<title>node_1&#45;&gt;node_3</title>\n<path fill=\"none\" stroke=\"#000000\" d=\"M133.5835,-435.7751C146.834,-425.0557 165.1845,-410.2103 179.9661,-398.2522\"/>\n<polygon fill=\"#000000\" stroke=\"#000000\" points=\"182.1827,-400.9609 187.7558,-391.9503 177.78,-395.5188 182.1827,-400.9609\"/>\n</g>\n<!-- node_4 -->\n<g id=\"node6\" class=\"node\">\n<title>node_4</title>\n<ellipse fill=\"none\" stroke=\"#000000\" cx=\"116\" cy=\"-306\" rx=\"27\" ry=\"18\"/>\n<text text-anchor=\"middle\" x=\"116\" y=\"-302.3\" font-family=\"Times,serif\" font-size=\"14.00\" fill=\"#000000\">5</text>\n</g>\n<!-- node_3&#45;&gt;node_4 -->\n<g id=\"edge5\" class=\"edge\">\n<title>node_3&#45;&gt;node_4</title>\n<path fill=\"none\" stroke=\"#000000\" d=\"M187.4165,-363.7751C174.166,-353.0557 155.8155,-338.2103 141.0339,-326.2522\"/>\n<polygon fill=\"#000000\" stroke=\"#000000\" points=\"143.22,-323.5188 133.2442,-319.9503 138.8173,-328.9609 143.22,-323.5188\"/>\n</g>\n<!-- #node_3 -->\n<!-- node_3&#45;&gt;#node_3 -->\n<!-- node_6 -->\n<g id=\"node10\" class=\"node\">\n<title>node_6</title>\n<ellipse fill=\"none\" stroke=\"#000000\" cx=\"294\" cy=\"-306\" rx=\"27\" ry=\"18\"/>\n<text text-anchor=\"middle\" x=\"294\" y=\"-302.3\" font-family=\"Times,serif\" font-size=\"14.00\" fill=\"#000000\">11</text>\n</g>\n<!-- node_3&#45;&gt;node_6 -->\n<g id=\"edge15\" class=\"edge\">\n<title>node_3&#45;&gt;node_6</title>\n<path fill=\"none\" stroke=\"#000000\" d=\"M222.5835,-363.7751C235.834,-353.0557 254.1845,-338.2103 268.9661,-326.2522\"/>\n<polygon fill=\"#000000\" stroke=\"#000000\" points=\"271.1827,-328.9609 276.7558,-319.9503 266.78,-323.5188 271.1827,-328.9609\"/>\n</g>\n<!-- node_5 -->\n<g id=\"node7\" class=\"node\">\n<title>node_5</title>\n<ellipse fill=\"none\" stroke=\"#000000\" cx=\"27\" cy=\"-234\" rx=\"27\" ry=\"18\"/>\n<text text-anchor=\"middle\" x=\"27\" y=\"-230.3\" font-family=\"Times,serif\" font-size=\"14.00\" fill=\"#000000\">7</text>\n</g>\n<!-- node_4&#45;&gt;node_5 -->\n<g id=\"edge3\" class=\"edge\">\n<title>node_4&#45;&gt;node_5</title>\n<path fill=\"none\" stroke=\"#000000\" d=\"M98.4165,-291.7751C85.166,-281.0557 66.8155,-266.2103 52.0339,-254.2522\"/>\n<polygon fill=\"#000000\" stroke=\"#000000\" points=\"54.22,-251.5188 44.2442,-247.9503 49.8173,-256.9609 54.22,-251.5188\"/>\n</g>\n<!-- #node_4 -->\n<!-- node_4&#45;&gt;#node_4 -->\n<!-- node_7 -->\n<g id=\"node11\" class=\"node\">\n<title>node_7</title>\n<ellipse fill=\"none\" stroke=\"#000000\" cx=\"205\" cy=\"-234\" rx=\"27\" ry=\"18\"/>\n<text text-anchor=\"middle\" x=\"205\" y=\"-230.3\" font-family=\"Times,serif\" font-size=\"14.00\" fill=\"#000000\">22</text>\n</g>\n<!-- node_6&#45;&gt;node_7 -->\n<g id=\"edge13\" class=\"edge\">\n<title>node_6&#45;&gt;node_7</title>\n<path fill=\"none\" stroke=\"#000000\" d=\"M276.4165,-291.7751C263.166,-281.0557 244.8155,-266.2103 230.0339,-254.2522\"/>\n<polygon fill=\"#000000\" stroke=\"#000000\" points=\"232.22,-251.5188 222.2442,-247.9503 227.8173,-256.9609 232.22,-251.5188\"/>\n</g>\n<!-- #node_6 -->\n<!-- node_6&#45;&gt;#node_6 -->\n<!-- #node_7 -->\n<!-- node_7&#45;&gt;#node_7 -->\n<!-- node_8 -->\n<g id=\"node13\" class=\"node\">\n<title>node_8</title>\n<ellipse fill=\"none\" stroke=\"#000000\" cx=\"294\" cy=\"-162\" rx=\"27\" ry=\"18\"/>\n<text text-anchor=\"middle\" x=\"294\" y=\"-158.3\" font-family=\"Times,serif\" font-size=\"14.00\" fill=\"#000000\">9</text>\n</g>\n<!-- node_7&#45;&gt;node_8 -->\n<g id=\"edge12\" class=\"edge\">\n<title>node_7&#45;&gt;node_8</title>\n<path fill=\"none\" stroke=\"#000000\" d=\"M222.5835,-219.7751C235.834,-209.0557 254.1845,-194.2103 268.9661,-182.2522\"/>\n<polygon fill=\"#000000\" stroke=\"#000000\" points=\"271.1827,-184.9609 276.7558,-175.9503 266.78,-179.5188 271.1827,-184.9609\"/>\n</g>\n<!-- node_9 -->\n<g id=\"node14\" class=\"node\">\n<title>node_9</title>\n<ellipse fill=\"none\" stroke=\"#000000\" cx=\"205\" cy=\"-90\" rx=\"27\" ry=\"18\"/>\n<text text-anchor=\"middle\" x=\"205\" y=\"-86.3\" font-family=\"Times,serif\" font-size=\"14.00\" fill=\"#000000\">1</text>\n</g>\n<!-- node_8&#45;&gt;node_9 -->\n<g id=\"edge10\" class=\"edge\">\n<title>node_8&#45;&gt;node_9</title>\n<path fill=\"none\" stroke=\"#000000\" d=\"M276.4165,-147.7751C263.166,-137.0557 244.8155,-122.2103 230.0339,-110.2522\"/>\n<polygon fill=\"#000000\" stroke=\"#000000\" points=\"232.22,-107.5188 222.2442,-103.9503 227.8173,-112.9609 232.22,-107.5188\"/>\n</g>\n<!-- #node_8 -->\n<!-- node_8&#45;&gt;#node_8 -->\n<!-- node_10 -->\n<g id=\"node15\" class=\"node\">\n<title>node_10</title>\n<ellipse fill=\"none\" stroke=\"#000000\" cx=\"116\" cy=\"-18\" rx=\"27\" ry=\"18\"/>\n<text text-anchor=\"middle\" x=\"116\" y=\"-14.3\" font-family=\"Times,serif\" font-size=\"14.00\" fill=\"#000000\">100</text>\n</g>\n<!-- node_9&#45;&gt;node_10 -->\n<g id=\"edge8\" class=\"edge\">\n<title>node_9&#45;&gt;node_10</title>\n<path fill=\"none\" stroke=\"#000000\" d=\"M187.4165,-75.7751C174.166,-65.0557 155.8155,-50.2103 141.0339,-38.2522\"/>\n<polygon fill=\"#000000\" stroke=\"#000000\" points=\"143.22,-35.5188 133.2442,-31.9503 138.8173,-40.9609 143.22,-35.5188\"/>\n</g>\n<!-- #node_9 -->\n<!-- node_9&#45;&gt;#node_9 -->\n<!-- node_12 -->\n<g id=\"node21\" class=\"node\">\n<title>node_12</title>\n<ellipse fill=\"none\" stroke=\"#000000\" cx=\"467\" cy=\"-378\" rx=\"27\" ry=\"18\"/>\n<text text-anchor=\"middle\" x=\"467\" y=\"-374.3\" font-family=\"Times,serif\" font-size=\"14.00\" fill=\"#000000\">100</text>\n</g>\n<!-- node_11&#45;&gt;node_12 -->\n<g id=\"edge21\" class=\"edge\">\n<title>node_11&#45;&gt;node_12</title>\n<path fill=\"none\" stroke=\"#000000\" d=\"M542.0687,-436.1177C528.1736,-425.3602 508.7219,-410.3009 493.1009,-398.2072\"/>\n<polygon fill=\"#000000\" stroke=\"#000000\" points=\"494.9262,-395.1939 484.8763,-391.8397 490.6409,-400.729 494.9262,-395.1939\"/>\n</g>\n<!-- #node_11 -->\n<!-- node_11&#45;&gt;#node_11 -->\n<!-- node_14 -->\n<g id=\"node25\" class=\"node\">\n<title>node_14</title>\n<ellipse fill=\"none\" stroke=\"#000000\" cx=\"655\" cy=\"-378\" rx=\"27\" ry=\"18\"/>\n<text text-anchor=\"middle\" x=\"655\" y=\"-374.3\" font-family=\"Times,serif\" font-size=\"14.00\" fill=\"#000000\">9</text>\n</g>\n<!-- node_11&#45;&gt;node_14 -->\n<g id=\"edge33\" class=\"edge\">\n<title>node_11&#45;&gt;node_14</title>\n<path fill=\"none\" stroke=\"#000000\" d=\"M577.8688,-436.4574C592.2406,-425.565 612.6381,-410.1059 628.8476,-397.8207\"/>\n<polygon fill=\"#000000\" stroke=\"#000000\" points=\"631.0327,-400.5564 636.8884,-391.7267 626.8046,-394.9776 631.0327,-400.5564\"/>\n</g>\n<!-- node_13 -->\n<g id=\"node22\" class=\"node\">\n<title>node_13</title>\n<ellipse fill=\"none\" stroke=\"#000000\" cx=\"370\" cy=\"-306\" rx=\"30.5947\" ry=\"18\"/>\n<text text-anchor=\"middle\" x=\"370\" y=\"-302.3\" font-family=\"Times,serif\" font-size=\"14.00\" fill=\"#000000\">1000</text>\n</g>\n<!-- node_12&#45;&gt;node_13 -->\n<g id=\"edge19\" class=\"edge\">\n<title>node_12&#45;&gt;node_13</title>\n<path fill=\"none\" stroke=\"#000000\" d=\"M448.755,-364.4574C434.2676,-353.7038 413.7834,-338.499 397.3375,-326.2918\"/>\n<polygon fill=\"#000000\" stroke=\"#000000\" points=\"399.2745,-323.3707 389.1586,-320.2209 395.1023,-328.9915 399.2745,-323.3707\"/>\n</g>\n<!-- #node_12 -->\n<!-- node_12&#45;&gt;#node_12 -->\n<!-- node_15 -->\n<g id=\"node26\" class=\"node\">\n<title>node_15</title>\n<ellipse fill=\"none\" stroke=\"#000000\" cx=\"561\" cy=\"-306\" rx=\"27\" ry=\"18\"/>\n<text text-anchor=\"middle\" x=\"561\" y=\"-302.3\" font-family=\"Times,serif\" font-size=\"14.00\" fill=\"#000000\">4</text>\n</g>\n<!-- node_14&#45;&gt;node_15 -->\n<g id=\"edge31\" class=\"edge\">\n<title>node_14&#45;&gt;node_15</title>\n<path fill=\"none\" stroke=\"#000000\" d=\"M636.8759,-364.1177C622.7414,-353.2913 602.9183,-338.1076 587.0784,-325.975\"/>\n<polygon fill=\"#000000\" stroke=\"#000000\" points=\"588.8168,-322.8978 578.7497,-319.5955 584.5602,-328.4549 588.8168,-322.8978\"/>\n</g>\n<!-- #node_14 -->\n<!-- node_14&#45;&gt;#node_14 -->\n<!-- node_16 -->\n<g id=\"node27\" class=\"node\">\n<title>node_16</title>\n<ellipse fill=\"none\" stroke=\"#000000\" cx=\"467\" cy=\"-234\" rx=\"27\" ry=\"18\"/>\n<text text-anchor=\"middle\" x=\"467\" y=\"-230.3\" font-family=\"Times,serif\" font-size=\"14.00\" fill=\"#000000\">100</text>\n</g>\n<!-- node_15&#45;&gt;node_16 -->\n<g id=\"edge29\" class=\"edge\">\n<title>node_15&#45;&gt;node_16</title>\n<path fill=\"none\" stroke=\"#000000\" d=\"M542.8759,-292.1177C528.7414,-281.2913 508.9183,-266.1076 493.0784,-253.975\"/>\n<polygon fill=\"#000000\" stroke=\"#000000\" points=\"494.8168,-250.8978 484.7497,-247.5955 490.5602,-256.4549 494.8168,-250.8978\"/>\n</g>\n<!-- #node_15 -->\n<!-- node_15&#45;&gt;#node_15 -->\n<!-- #node_16 -->\n<!-- node_16&#45;&gt;#node_16 -->\n<!-- node_17 -->\n<g id=\"node29\" class=\"node\">\n<title>node_17</title>\n<ellipse fill=\"none\" stroke=\"#000000\" cx=\"561\" cy=\"-162\" rx=\"27\" ry=\"18\"/>\n<text text-anchor=\"middle\" x=\"561\" y=\"-158.3\" font-family=\"Times,serif\" font-size=\"14.00\" fill=\"#000000\">88</text>\n</g>\n<!-- node_16&#45;&gt;node_17 -->\n<g id=\"edge28\" class=\"edge\">\n<title>node_16&#45;&gt;node_17</title>\n<path fill=\"none\" stroke=\"#000000\" d=\"M485.1241,-220.1177C499.2586,-209.2913 519.0817,-194.1076 534.9216,-181.975\"/>\n<polygon fill=\"#000000\" stroke=\"#000000\" points=\"537.4398,-184.4549 543.2503,-175.5955 533.1832,-178.8978 537.4398,-184.4549\"/>\n</g>\n<!-- node_18 -->\n<g id=\"node30\" class=\"node\">\n<title>node_18</title>\n<ellipse fill=\"none\" stroke=\"#000000\" cx=\"467\" cy=\"-90\" rx=\"27\" ry=\"18\"/>\n<text text-anchor=\"middle\" x=\"467\" y=\"-86.3\" font-family=\"Times,serif\" font-size=\"14.00\" fill=\"#000000\">1</text>\n</g>\n<!-- node_17&#45;&gt;node_18 -->\n<g id=\"edge26\" class=\"edge\">\n<title>node_17&#45;&gt;node_18</title>\n<path fill=\"none\" stroke=\"#000000\" d=\"M542.8759,-148.1177C528.7414,-137.2913 508.9183,-122.1076 493.0784,-109.975\"/>\n<polygon fill=\"#000000\" stroke=\"#000000\" points=\"494.8168,-106.8978 484.7497,-103.5955 490.5602,-112.4549 494.8168,-106.8978\"/>\n</g>\n<!-- #node_17 -->\n<!-- node_17&#45;&gt;#node_17 -->\n<!-- #node_18 -->\n<!-- node_18&#45;&gt;#node_18 -->\n<!-- node_19 -->\n<g id=\"node32\" class=\"node\">\n<title>node_19</title>\n<ellipse fill=\"none\" stroke=\"#000000\" cx=\"579\" cy=\"-18\" rx=\"44.6926\" ry=\"18\"/>\n<text text-anchor=\"middle\" x=\"579\" y=\"-14.3\" font-family=\"Times,serif\" font-size=\"14.00\" fill=\"#000000\">HAHAH</text>\n</g>\n<!-- node_18&#45;&gt;node_19 -->\n<g id=\"edge25\" class=\"edge\">\n<title>node_18&#45;&gt;node_19</title>\n<path fill=\"none\" stroke=\"#000000\" d=\"M486.5089,-77.4586C503.0312,-66.8371 527.0598,-51.3902 546.4845,-38.9028\"/>\n<polygon fill=\"#000000\" stroke=\"#000000\" points=\"548.5228,-41.7534 555.0419,-33.4016 544.7374,-35.8651 548.5228,-41.7534\"/>\n</g>\n</g>\n</svg>\n"
          },
          "metadata": {
            "tags": []
          },
          "execution_count": 7
        }
      ]
    },
    {
      "cell_type": "code",
      "metadata": {
        "id": "KyZIN-H1yCwo",
        "colab_type": "code",
        "outputId": "51897ba5-322c-4de8-d628-75140a282795",
        "colab": {
          "base_uri": "https://localhost:8080/",
          "height": 368
        }
      },
      "source": [
        "tree_data2 = {\n",
        "    'A': {\n",
        "        'B': {\n",
        "            'C': {\n",
        "                'D': None,\n",
        "                'E': None,\n",
        "            },\n",
        "            'F': None,\n",
        "        },\n",
        "        'G': {\n",
        "            'H': {\n",
        "                None:None,\n",
        "                'I':None,\n",
        "            }\n",
        "        }\n",
        "    }\n",
        "}\n",
        "\n",
        "\n",
        "t = BinaryTree(tree_dict=tree_data2)\n",
        "t.display()"
      ],
      "execution_count": 8,
      "outputs": [
        {
          "output_type": "execute_result",
          "data": {
            "text/plain": [
              "<graphviz.dot.Digraph at 0x7f88ca0efa20>"
            ],
            "image/svg+xml": "<?xml version=\"1.0\" encoding=\"UTF-8\" standalone=\"no\"?>\n<!DOCTYPE svg PUBLIC \"-//W3C//DTD SVG 1.1//EN\"\n \"http://www.w3.org/Graphics/SVG/1.1/DTD/svg11.dtd\">\n<!-- Generated by graphviz version 2.40.1 (20161225.0304)\n -->\n<!-- Title: %3 Pages: 1 -->\n<svg width=\"532pt\" height=\"260pt\"\n viewBox=\"0.00 0.00 531.75 260.00\" xmlns=\"http://www.w3.org/2000/svg\" xmlns:xlink=\"http://www.w3.org/1999/xlink\">\n<g id=\"graph0\" class=\"graph\" transform=\"scale(1 1) rotate(0) translate(4 256)\">\n<title>%3</title>\n<polygon fill=\"#ffffff\" stroke=\"transparent\" points=\"-4,4 -4,-256 527.7457,-256 527.7457,4 -4,4\"/>\n<!-- node_20 -->\n<g id=\"node1\" class=\"node\">\n<title>node_20</title>\n<ellipse fill=\"none\" stroke=\"#000000\" cx=\"345\" cy=\"-234\" rx=\"27\" ry=\"18\"/>\n<text text-anchor=\"middle\" x=\"345\" y=\"-230.3\" font-family=\"Times,serif\" font-size=\"14.00\" fill=\"#000000\">A</text>\n</g>\n<!-- node_21 -->\n<g id=\"node2\" class=\"node\">\n<title>node_21</title>\n<ellipse fill=\"none\" stroke=\"#000000\" cx=\"215\" cy=\"-162\" rx=\"27\" ry=\"18\"/>\n<text text-anchor=\"middle\" x=\"215\" y=\"-158.3\" font-family=\"Times,serif\" font-size=\"14.00\" fill=\"#000000\">B</text>\n</g>\n<!-- node_20&#45;&gt;node_21 -->\n<g id=\"edge7\" class=\"edge\">\n<title>node_20&#45;&gt;node_21</title>\n<path fill=\"none\" stroke=\"#000000\" d=\"M324.1133,-222.432C302.602,-210.518 268.886,-191.8446 244.6251,-178.4077\"/>\n<polygon fill=\"#000000\" stroke=\"#000000\" points=\"246.2786,-175.3226 235.8349,-173.5393 242.8871,-181.4462 246.2786,-175.3226\"/>\n</g>\n<!-- #node_20 -->\n<!-- node_20&#45;&gt;#node_20 -->\n<!-- node_26 -->\n<g id=\"node10\" class=\"node\">\n<title>node_26</title>\n<ellipse fill=\"none\" stroke=\"#000000\" cx=\"475\" cy=\"-162\" rx=\"27\" ry=\"18\"/>\n<text text-anchor=\"middle\" x=\"475\" y=\"-158.3\" font-family=\"Times,serif\" font-size=\"14.00\" fill=\"#000000\">G</text>\n</g>\n<!-- node_20&#45;&gt;node_26 -->\n<g id=\"edge13\" class=\"edge\">\n<title>node_20&#45;&gt;node_26</title>\n<path fill=\"none\" stroke=\"#000000\" d=\"M365.8867,-222.432C387.398,-210.518 421.114,-191.8446 445.3749,-178.4077\"/>\n<polygon fill=\"#000000\" stroke=\"#000000\" points=\"447.1129,-181.4462 454.1651,-173.5393 443.7214,-175.3226 447.1129,-181.4462\"/>\n</g>\n<!-- node_22 -->\n<g id=\"node3\" class=\"node\">\n<title>node_22</title>\n<ellipse fill=\"none\" stroke=\"#000000\" cx=\"121\" cy=\"-90\" rx=\"27\" ry=\"18\"/>\n<text text-anchor=\"middle\" x=\"121\" y=\"-86.3\" font-family=\"Times,serif\" font-size=\"14.00\" fill=\"#000000\">C</text>\n</g>\n<!-- node_21&#45;&gt;node_22 -->\n<g id=\"edge4\" class=\"edge\">\n<title>node_21&#45;&gt;node_22</title>\n<path fill=\"none\" stroke=\"#000000\" d=\"M196.8759,-148.1177C182.7414,-137.2913 162.9183,-122.1076 147.0784,-109.975\"/>\n<polygon fill=\"#000000\" stroke=\"#000000\" points=\"148.8168,-106.8978 138.7497,-103.5955 144.5602,-112.4549 148.8168,-106.8978\"/>\n</g>\n<!-- #node_21 -->\n<!-- node_21&#45;&gt;#node_21 -->\n<!-- node_25 -->\n<g id=\"node8\" class=\"node\">\n<title>node_25</title>\n<ellipse fill=\"none\" stroke=\"#000000\" cx=\"309\" cy=\"-90\" rx=\"27\" ry=\"18\"/>\n<text text-anchor=\"middle\" x=\"309\" y=\"-86.3\" font-family=\"Times,serif\" font-size=\"14.00\" fill=\"#000000\">F</text>\n</g>\n<!-- node_21&#45;&gt;node_25 -->\n<g id=\"edge6\" class=\"edge\">\n<title>node_21&#45;&gt;node_25</title>\n<path fill=\"none\" stroke=\"#000000\" d=\"M233.1241,-148.1177C247.2586,-137.2913 267.0817,-122.1076 282.9216,-109.975\"/>\n<polygon fill=\"#000000\" stroke=\"#000000\" points=\"285.4398,-112.4549 291.2503,-103.5955 281.1832,-106.8978 285.4398,-112.4549\"/>\n</g>\n<!-- node_23 -->\n<g id=\"node4\" class=\"node\">\n<title>node_23</title>\n<ellipse fill=\"none\" stroke=\"#000000\" cx=\"27\" cy=\"-18\" rx=\"27\" ry=\"18\"/>\n<text text-anchor=\"middle\" x=\"27\" y=\"-14.3\" font-family=\"Times,serif\" font-size=\"14.00\" fill=\"#000000\">D</text>\n</g>\n<!-- node_22&#45;&gt;node_23 -->\n<g id=\"edge1\" class=\"edge\">\n<title>node_22&#45;&gt;node_23</title>\n<path fill=\"none\" stroke=\"#000000\" d=\"M102.8759,-76.1177C88.7414,-65.2913 68.9183,-50.1076 53.0784,-37.975\"/>\n<polygon fill=\"#000000\" stroke=\"#000000\" points=\"54.8168,-34.8978 44.7497,-31.5955 50.5602,-40.4549 54.8168,-34.8978\"/>\n</g>\n<!-- #node_22 -->\n<!-- node_22&#45;&gt;#node_22 -->\n<!-- node_24 -->\n<g id=\"node6\" class=\"node\">\n<title>node_24</title>\n<ellipse fill=\"none\" stroke=\"#000000\" cx=\"215\" cy=\"-18\" rx=\"27\" ry=\"18\"/>\n<text text-anchor=\"middle\" x=\"215\" y=\"-14.3\" font-family=\"Times,serif\" font-size=\"14.00\" fill=\"#000000\">E</text>\n</g>\n<!-- node_22&#45;&gt;node_24 -->\n<g id=\"edge3\" class=\"edge\">\n<title>node_22&#45;&gt;node_24</title>\n<path fill=\"none\" stroke=\"#000000\" d=\"M139.1241,-76.1177C153.2586,-65.2913 173.0817,-50.1076 188.9216,-37.975\"/>\n<polygon fill=\"#000000\" stroke=\"#000000\" points=\"191.4398,-40.4549 197.2503,-31.5955 187.1832,-34.8978 191.4398,-40.4549\"/>\n</g>\n<!-- node_27 -->\n<g id=\"node11\" class=\"node\">\n<title>node_27</title>\n<ellipse fill=\"none\" stroke=\"#000000\" cx=\"381\" cy=\"-90\" rx=\"27\" ry=\"18\"/>\n<text text-anchor=\"middle\" x=\"381\" y=\"-86.3\" font-family=\"Times,serif\" font-size=\"14.00\" fill=\"#000000\">H</text>\n</g>\n<!-- node_26&#45;&gt;node_27 -->\n<g id=\"edge11\" class=\"edge\">\n<title>node_26&#45;&gt;node_27</title>\n<path fill=\"none\" stroke=\"#000000\" d=\"M456.8759,-148.1177C442.7414,-137.2913 422.9183,-122.1076 407.0784,-109.975\"/>\n<polygon fill=\"#000000\" stroke=\"#000000\" points=\"408.8168,-106.8978 398.7497,-103.5955 404.5602,-112.4549 408.8168,-106.8978\"/>\n</g>\n<!-- #node_26 -->\n<!-- node_26&#45;&gt;#node_26 -->\n<!-- #node_27 -->\n<!-- node_27&#45;&gt;#node_27 -->\n<!-- node_28 -->\n<g id=\"node13\" class=\"node\">\n<title>node_28</title>\n<ellipse fill=\"none\" stroke=\"#000000\" cx=\"475\" cy=\"-18\" rx=\"27\" ry=\"18\"/>\n<text text-anchor=\"middle\" x=\"475\" y=\"-14.3\" font-family=\"Times,serif\" font-size=\"14.00\" fill=\"#000000\">I</text>\n</g>\n<!-- node_27&#45;&gt;node_28 -->\n<g id=\"edge10\" class=\"edge\">\n<title>node_27&#45;&gt;node_28</title>\n<path fill=\"none\" stroke=\"#000000\" d=\"M399.1241,-76.1177C413.2586,-65.2913 433.0817,-50.1076 448.9216,-37.975\"/>\n<polygon fill=\"#000000\" stroke=\"#000000\" points=\"451.4398,-40.4549 457.2503,-31.5955 447.1832,-34.8978 451.4398,-40.4549\"/>\n</g>\n</g>\n</svg>\n"
          },
          "metadata": {
            "tags": []
          },
          "execution_count": 8
        }
      ]
    },
    {
      "cell_type": "code",
      "metadata": {
        "id": "p9CWOGNavmFK",
        "colab_type": "code",
        "outputId": "8ae0307c-9dd2-44e9-d275-7b39f69011d6",
        "colab": {
          "base_uri": "https://localhost:8080/",
          "height": 368
        }
      },
      "source": [
        "tree_root = Node('A',\n",
        "                 Node('B',\n",
        "                     Node('D',\n",
        "                          Node('V'),\n",
        "                          Node('E')\n",
        "                         ),\n",
        "                      Node('F',\n",
        "                          Node('H'),\n",
        "                          Node('G')\n",
        "                          )\n",
        "                     ),\n",
        "                 Node('C',\n",
        "                     Node('I',\n",
        "                          None,\n",
        "                          Node('K')\n",
        "                         )\n",
        "                     )\n",
        "                )\n",
        "\n",
        "t = BinaryTree(root=tree_root)\n",
        "t.display()"
      ],
      "execution_count": 9,
      "outputs": [
        {
          "output_type": "execute_result",
          "data": {
            "text/plain": [
              "<graphviz.dot.Digraph at 0x7f88ca0efb00>"
            ],
            "image/svg+xml": "<?xml version=\"1.0\" encoding=\"UTF-8\" standalone=\"no\"?>\n<!DOCTYPE svg PUBLIC \"-//W3C//DTD SVG 1.1//EN\"\n \"http://www.w3.org/Graphics/SVG/1.1/DTD/svg11.dtd\">\n<!-- Generated by graphviz version 2.40.1 (20161225.0304)\n -->\n<!-- Title: %3 Pages: 1 -->\n<svg width=\"720pt\" height=\"260pt\"\n viewBox=\"0.00 0.00 719.75 260.00\" xmlns=\"http://www.w3.org/2000/svg\" xmlns:xlink=\"http://www.w3.org/1999/xlink\">\n<g id=\"graph0\" class=\"graph\" transform=\"scale(1 1) rotate(0) translate(4 256)\">\n<title>%3</title>\n<polygon fill=\"#ffffff\" stroke=\"transparent\" points=\"-4,4 -4,-256 715.7457,-256 715.7457,4 -4,4\"/>\n<!-- node_39 -->\n<g id=\"node1\" class=\"node\">\n<title>node_39</title>\n<ellipse fill=\"none\" stroke=\"#000000\" cx=\"475\" cy=\"-234\" rx=\"27\" ry=\"18\"/>\n<text text-anchor=\"middle\" x=\"475\" y=\"-230.3\" font-family=\"Times,serif\" font-size=\"14.00\" fill=\"#000000\">A</text>\n</g>\n<!-- node_35 -->\n<g id=\"node2\" class=\"node\">\n<title>node_35</title>\n<ellipse fill=\"none\" stroke=\"#000000\" cx=\"287\" cy=\"-162\" rx=\"27\" ry=\"18\"/>\n<text text-anchor=\"middle\" x=\"287\" y=\"-158.3\" font-family=\"Times,serif\" font-size=\"14.00\" fill=\"#000000\">B</text>\n</g>\n<!-- node_39&#45;&gt;node_35 -->\n<g id=\"edge10\" class=\"edge\">\n<title>node_39&#45;&gt;node_35</title>\n<path fill=\"none\" stroke=\"#000000\" d=\"M451.5698,-225.0267C418.4089,-212.3268 357.6354,-189.0518 319.9446,-174.6171\"/>\n<polygon fill=\"#000000\" stroke=\"#000000\" points=\"321.0198,-171.281 310.4295,-170.973 318.5163,-177.818 321.0198,-171.281\"/>\n</g>\n<!-- #node_39 -->\n<!-- node_39&#45;&gt;#node_39 -->\n<!-- node_38 -->\n<g id=\"node13\" class=\"node\">\n<title>node_38</title>\n<ellipse fill=\"none\" stroke=\"#000000\" cx=\"663\" cy=\"-162\" rx=\"27\" ry=\"18\"/>\n<text text-anchor=\"middle\" x=\"663\" y=\"-158.3\" font-family=\"Times,serif\" font-size=\"14.00\" fill=\"#000000\">C</text>\n</g>\n<!-- node_39&#45;&gt;node_38 -->\n<g id=\"edge16\" class=\"edge\">\n<title>node_39&#45;&gt;node_38</title>\n<path fill=\"none\" stroke=\"#000000\" d=\"M498.4302,-225.0267C531.5911,-212.3268 592.3646,-189.0518 630.0554,-174.6171\"/>\n<polygon fill=\"#000000\" stroke=\"#000000\" points=\"631.4837,-177.818 639.5705,-170.973 628.9802,-171.281 631.4837,-177.818\"/>\n</g>\n<!-- node_31 -->\n<g id=\"node3\" class=\"node\">\n<title>node_31</title>\n<ellipse fill=\"none\" stroke=\"#000000\" cx=\"121\" cy=\"-90\" rx=\"27\" ry=\"18\"/>\n<text text-anchor=\"middle\" x=\"121\" y=\"-86.3\" font-family=\"Times,serif\" font-size=\"14.00\" fill=\"#000000\">D</text>\n</g>\n<!-- node_35&#45;&gt;node_31 -->\n<g id=\"edge4\" class=\"edge\">\n<title>node_35&#45;&gt;node_31</title>\n<path fill=\"none\" stroke=\"#000000\" d=\"M264.2665,-152.1397C235.5384,-139.6793 185.9113,-118.1543 153.2681,-103.9958\"/>\n<polygon fill=\"#000000\" stroke=\"#000000\" points=\"154.2917,-100.6248 143.7247,-99.8565 151.5062,-107.0467 154.2917,-100.6248\"/>\n</g>\n<!-- #node_35 -->\n<!-- node_35&#45;&gt;#node_35 -->\n<!-- node_34 -->\n<g id=\"node8\" class=\"node\">\n<title>node_34</title>\n<ellipse fill=\"none\" stroke=\"#000000\" cx=\"381\" cy=\"-90\" rx=\"27\" ry=\"18\"/>\n<text text-anchor=\"middle\" x=\"381\" y=\"-86.3\" font-family=\"Times,serif\" font-size=\"14.00\" fill=\"#000000\">F</text>\n</g>\n<!-- node_35&#45;&gt;node_34 -->\n<g id=\"edge9\" class=\"edge\">\n<title>node_35&#45;&gt;node_34</title>\n<path fill=\"none\" stroke=\"#000000\" d=\"M305.1241,-148.1177C319.2586,-137.2913 339.0817,-122.1076 354.9216,-109.975\"/>\n<polygon fill=\"#000000\" stroke=\"#000000\" points=\"357.4398,-112.4549 363.2503,-103.5955 353.1832,-106.8978 357.4398,-112.4549\"/>\n</g>\n<!-- node_29 -->\n<g id=\"node4\" class=\"node\">\n<title>node_29</title>\n<ellipse fill=\"none\" stroke=\"#000000\" cx=\"27\" cy=\"-18\" rx=\"27\" ry=\"18\"/>\n<text text-anchor=\"middle\" x=\"27\" y=\"-14.3\" font-family=\"Times,serif\" font-size=\"14.00\" fill=\"#000000\">V</text>\n</g>\n<!-- node_31&#45;&gt;node_29 -->\n<g id=\"edge1\" class=\"edge\">\n<title>node_31&#45;&gt;node_29</title>\n<path fill=\"none\" stroke=\"#000000\" d=\"M102.8759,-76.1177C88.7414,-65.2913 68.9183,-50.1076 53.0784,-37.975\"/>\n<polygon fill=\"#000000\" stroke=\"#000000\" points=\"54.8168,-34.8978 44.7497,-31.5955 50.5602,-40.4549 54.8168,-34.8978\"/>\n</g>\n<!-- #node_31 -->\n<!-- node_31&#45;&gt;#node_31 -->\n<!-- node_30 -->\n<g id=\"node6\" class=\"node\">\n<title>node_30</title>\n<ellipse fill=\"none\" stroke=\"#000000\" cx=\"215\" cy=\"-18\" rx=\"27\" ry=\"18\"/>\n<text text-anchor=\"middle\" x=\"215\" y=\"-14.3\" font-family=\"Times,serif\" font-size=\"14.00\" fill=\"#000000\">E</text>\n</g>\n<!-- node_31&#45;&gt;node_30 -->\n<g id=\"edge3\" class=\"edge\">\n<title>node_31&#45;&gt;node_30</title>\n<path fill=\"none\" stroke=\"#000000\" d=\"M139.1241,-76.1177C153.2586,-65.2913 173.0817,-50.1076 188.9216,-37.975\"/>\n<polygon fill=\"#000000\" stroke=\"#000000\" points=\"191.4398,-40.4549 197.2503,-31.5955 187.1832,-34.8978 191.4398,-40.4549\"/>\n</g>\n<!-- node_32 -->\n<g id=\"node9\" class=\"node\">\n<title>node_32</title>\n<ellipse fill=\"none\" stroke=\"#000000\" cx=\"287\" cy=\"-18\" rx=\"27\" ry=\"18\"/>\n<text text-anchor=\"middle\" x=\"287\" y=\"-14.3\" font-family=\"Times,serif\" font-size=\"14.00\" fill=\"#000000\">H</text>\n</g>\n<!-- node_34&#45;&gt;node_32 -->\n<g id=\"edge6\" class=\"edge\">\n<title>node_34&#45;&gt;node_32</title>\n<path fill=\"none\" stroke=\"#000000\" d=\"M362.8759,-76.1177C348.7414,-65.2913 328.9183,-50.1076 313.0784,-37.975\"/>\n<polygon fill=\"#000000\" stroke=\"#000000\" points=\"314.8168,-34.8978 304.7497,-31.5955 310.5602,-40.4549 314.8168,-34.8978\"/>\n</g>\n<!-- #node_34 -->\n<!-- node_34&#45;&gt;#node_34 -->\n<!-- node_33 -->\n<g id=\"node11\" class=\"node\">\n<title>node_33</title>\n<ellipse fill=\"none\" stroke=\"#000000\" cx=\"475\" cy=\"-18\" rx=\"27\" ry=\"18\"/>\n<text text-anchor=\"middle\" x=\"475\" y=\"-14.3\" font-family=\"Times,serif\" font-size=\"14.00\" fill=\"#000000\">G</text>\n</g>\n<!-- node_34&#45;&gt;node_33 -->\n<g id=\"edge8\" class=\"edge\">\n<title>node_34&#45;&gt;node_33</title>\n<path fill=\"none\" stroke=\"#000000\" d=\"M399.1241,-76.1177C413.2586,-65.2913 433.0817,-50.1076 448.9216,-37.975\"/>\n<polygon fill=\"#000000\" stroke=\"#000000\" points=\"451.4398,-40.4549 457.2503,-31.5955 447.1832,-34.8978 451.4398,-40.4549\"/>\n</g>\n<!-- node_37 -->\n<g id=\"node14\" class=\"node\">\n<title>node_37</title>\n<ellipse fill=\"none\" stroke=\"#000000\" cx=\"569\" cy=\"-90\" rx=\"27\" ry=\"18\"/>\n<text text-anchor=\"middle\" x=\"569\" y=\"-86.3\" font-family=\"Times,serif\" font-size=\"14.00\" fill=\"#000000\">I</text>\n</g>\n<!-- node_38&#45;&gt;node_37 -->\n<g id=\"edge14\" class=\"edge\">\n<title>node_38&#45;&gt;node_37</title>\n<path fill=\"none\" stroke=\"#000000\" d=\"M644.8759,-148.1177C630.7414,-137.2913 610.9183,-122.1076 595.0784,-109.975\"/>\n<polygon fill=\"#000000\" stroke=\"#000000\" points=\"596.8168,-106.8978 586.7497,-103.5955 592.5602,-112.4549 596.8168,-106.8978\"/>\n</g>\n<!-- #node_38 -->\n<!-- node_38&#45;&gt;#node_38 -->\n<!-- #node_37 -->\n<!-- node_37&#45;&gt;#node_37 -->\n<!-- node_36 -->\n<g id=\"node16\" class=\"node\">\n<title>node_36</title>\n<ellipse fill=\"none\" stroke=\"#000000\" cx=\"663\" cy=\"-18\" rx=\"27\" ry=\"18\"/>\n<text text-anchor=\"middle\" x=\"663\" y=\"-14.3\" font-family=\"Times,serif\" font-size=\"14.00\" fill=\"#000000\">K</text>\n</g>\n<!-- node_37&#45;&gt;node_36 -->\n<g id=\"edge13\" class=\"edge\">\n<title>node_37&#45;&gt;node_36</title>\n<path fill=\"none\" stroke=\"#000000\" d=\"M587.1241,-76.1177C601.2586,-65.2913 621.0817,-50.1076 636.9216,-37.975\"/>\n<polygon fill=\"#000000\" stroke=\"#000000\" points=\"639.4398,-40.4549 645.2503,-31.5955 635.1832,-34.8978 639.4398,-40.4549\"/>\n</g>\n</g>\n</svg>\n"
          },
          "metadata": {
            "tags": []
          },
          "execution_count": 9
        }
      ]
    },
    {
      "cell_type": "code",
      "metadata": {
        "id": "GvyWD1gSwdcD",
        "colab_type": "code",
        "colab": {}
      },
      "source": [
        "from graphviz import Digraph\n",
        "from graphviz import Source\n",
        "\n",
        "s = Source(open('mytree.dot', 'r').read())\n",
        "s\n"
      ],
      "execution_count": 0,
      "outputs": []
    }
  ]
}