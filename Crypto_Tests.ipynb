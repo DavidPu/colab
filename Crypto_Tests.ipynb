{
  "nbformat": 4,
  "nbformat_minor": 0,
  "metadata": {
    "colab": {
      "name": "Crypto_Tests",
      "version": "0.3.2",
      "provenance": [],
      "collapsed_sections": [
        "1fr51oVCHRZU",
        "9wi5kfGdhK0R",
        "yv2XIwi5hQ_g",
        "y75UGODaL1oX"
      ],
      "include_colab_link": true
    },
    "kernelspec": {
      "display_name": "Python 3",
      "name": "python3"
    }
  },
  "cells": [
    {
      "cell_type": "markdown",
      "metadata": {
        "id": "view-in-github",
        "colab_type": "text"
      },
      "source": [
        "<a href=\"https://colab.research.google.com/github/DavidPu/colab/blob/master/Crypto_Tests.ipynb\" target=\"_parent\"><img src=\"https://colab.research.google.com/assets/colab-badge.svg\" alt=\"Open In Colab\"/></a>"
      ]
    },
    {
      "cell_type": "markdown",
      "metadata": {
        "colab_type": "text",
        "id": "9J7p406abzgl"
      },
      "source": [
        "<img height=\"60px\" src=\"https://colab.research.google.com/img/colab_favicon.ico\" align=\"left\" hspace=\"20px\" vspace=\"5px\">\n",
        "\n",
        "<h1>Welcome to Colaboratory!</h1>\n",
        "Colaboratory is a free Jupyter notebook environment that requires no setup and runs entirely in the cloud. See our [FAQ](https://research.google.com/colaboratory/faq.html) for more info."
      ]
    },
    {
      "cell_type": "markdown",
      "metadata": {
        "colab_type": "text",
        "id": "-Rh3-Vt9Nev9"
      },
      "source": [
        "## Getting Started\n",
        "- [Overview of Colaboratory](/notebooks/basic_features_overview.ipynb)\n",
        "- [Loading and saving data: Local files, Drive, Sheets, Google Cloud Storage](/notebooks/io.ipynb)\n",
        "- [Importing libraries and installing dependencies](/notebooks/snippets/importing_libraries.ipynb)\n",
        "- [Using Google Cloud BigQuery](/notebooks/bigquery.ipynb)\n",
        "- [Forms](/notebooks/forms.ipynb), [Charts](/notebooks/charts.ipynb), [Markdown](/notebooks/markdown_guide.ipynb), & [Widgets](/notebooks/widgets.ipynb)\n",
        "- [TensorFlow with GPU](/notebooks/gpu.ipynb)\n",
        "- [TensorFlow with TPU](/notebooks/tpu.ipynb)\n",
        "- [Machine Learning Crash Course](https://developers.google.com/machine-learning/crash-course/): [Intro to Pandas](/notebooks/mlcc/intro_to_pandas.ipynb) & [First Steps with TensorFlow](/notebooks/mlcc/first_steps_with_tensor_flow.ipynb)\n",
        "- [Using Colab with GitHub](https://colab.research.google.com/github/googlecolab/colabtools/blob/master/notebooks/colab-github-demo.ipynb)\n"
      ]
    },
    {
      "cell_type": "markdown",
      "metadata": {
        "colab_type": "text",
        "id": "1fr51oVCHRZU"
      },
      "source": [
        "## Highlighted Features\n",
        "### Seedbank\n",
        "\n",
        "Looking for Colab notebooks to learn from? Check out [Seedbank](https://tools.google.com/seedbank/), a place to discover interactive machine learning examples."
      ]
    },
    {
      "cell_type": "markdown",
      "metadata": {
        "colab_type": "text",
        "id": "9wi5kfGdhK0R"
      },
      "source": [
        "### TensorFlow execution"
      ]
    },
    {
      "cell_type": "markdown",
      "metadata": {
        "colab_type": "text",
        "id": "S9GW-n-oYWIj"
      },
      "source": [
        "Colaboratory allows you to execute TensorFlow code in your browser with a single click. The example below adds two matrices.\n",
        "\n",
        "$\\begin{bmatrix}\n",
        "  1. & 1. & 1. \\\\\n",
        "  1. & 1. & 1. \\\\\n",
        "\\end{bmatrix} +\n",
        "\\begin{bmatrix}\n",
        "  1. & 2. & 3. \\\\\n",
        "  4. & 5. & 6. \\\\\n",
        "\\end{bmatrix} =\n",
        "\\begin{bmatrix}\n",
        "  2. & 3. & 4. \\\\\n",
        "  5. & 6. & 7. \\\\\n",
        "\\end{bmatrix}$"
      ]
    },
    {
      "cell_type": "code",
      "metadata": {
        "colab_type": "code",
        "id": "oYZkU7ZN3CL0",
        "outputId": "9589151d-5ff4-4bca-f05e-8bcba8ffcba1",
        "colab": {
          "base_uri": "https://localhost:8080/",
          "height": 53
        }
      },
      "source": [
        "import tensorflow as tf\n",
        "\n",
        "input1 = tf.ones((2, 3))\n",
        "input2 = tf.reshape(tf.range(1, 7, dtype=tf.float32), (2, 3))\n",
        "output = input1 + input2\n",
        "\n",
        "with tf.Session():\n",
        "  result = output.eval()\n",
        "result  "
      ],
      "execution_count": 0,
      "outputs": [
        {
          "output_type": "execute_result",
          "data": {
            "text/plain": [
              "array([[2., 3., 4.],\n",
              "       [5., 6., 7.]], dtype=float32)"
            ]
          },
          "metadata": {
            "tags": []
          },
          "execution_count": 0
        }
      ]
    },
    {
      "cell_type": "markdown",
      "metadata": {
        "colab_type": "text",
        "id": "nwYF0E3Sjiy4"
      },
      "source": [
        "### GitHub\n",
        "\n",
        "For a full discussion of interactions between Colab and GitHub, see [Using Colab with GitHub](https://colab.research.google.com/github/googlecolab/colabtools/blob/master/notebooks/colab-github-demo.ipynb). As a brief summary:\n",
        "\n",
        "To save a copy of your Colab notebook to Github, select *File → Save a copy to GitHub…*\n",
        "\n",
        "To load a specific notebook from github, append the github path to http://colab.research.google.com/github/.\n",
        "For example to load this notebook in Colab: [https://github.com/tensorflow/docs/blob/master/site/en/tutorials/_index.ipynb](https://github.com/tensorflow/docs/blob/master/site/en/tutorials/_index.ipynb) use the following Colab URL: [https://colab.research.google.com/github/tensorflow/docs/blob/master/site/en/tutorials/_index.ipynb](https://colab.research.google.com/github/tensorflow/docs/blob/master/site/en/tutorials/_index.ipynb)\n",
        "\n",
        "To open a github notebook in one click, we recommend installing the [Open in Colab Chrome Extension](https://chrome.google.com/webstore/detail/open-in-colab/iogfkhleblhcpcekbiedikdehleodpjo).\n",
        "\n"
      ]
    },
    {
      "cell_type": "markdown",
      "metadata": {
        "colab_type": "text",
        "id": "yv2XIwi5hQ_g"
      },
      "source": [
        "### Visualization"
      ]
    },
    {
      "cell_type": "markdown",
      "metadata": {
        "colab_type": "text",
        "id": "rYs5mx2JZkmy"
      },
      "source": [
        "Colaboratory includes widely used libraries like [matplotlib](https://matplotlib.org/), simplifying visualization."
      ]
    },
    {
      "cell_type": "code",
      "metadata": {
        "colab_type": "code",
        "id": "xqrc5C-IaA5J",
        "colab": {}
      },
      "source": [
        "import matplotlib.pyplot as plt\n",
        "import numpy as np\n",
        "\n",
        "x = np.arange(20)\n",
        "y = [x_i + np.random.randn(1) for x_i in x]\n",
        "a, b = np.polyfit(x, y, 1)\n",
        "_ = plt.plot(x, y, 'o', np.arange(20), a*np.arange(20)+b, '-')"
      ],
      "execution_count": 0,
      "outputs": []
    },
    {
      "cell_type": "markdown",
      "metadata": {
        "colab_type": "text",
        "id": "AN_LRQ9NkOjs"
      },
      "source": [
        "Want to use a new library?  `pip install` it at the top of the notebook. Then that library can be used anywhere else in the notebook. For recipes to import commonly used libraries, refer to the [importing libraries example notebook](/notebooks/snippets/importing_libraries.ipynb)."
      ]
    },
    {
      "cell_type": "code",
      "metadata": {
        "colab_type": "code",
        "id": "FlQq0SUepQbd",
        "colab": {}
      },
      "source": [
        "!pip install -q matplotlib-venn\n",
        "\n",
        "from matplotlib_venn import venn2\n",
        "_ = venn2(subsets = (3, 2, 1))"
      ],
      "execution_count": 0,
      "outputs": []
    },
    {
      "cell_type": "markdown",
      "metadata": {
        "colab_type": "text",
        "id": "LxZ3dPzYnyNF"
      },
      "source": [
        "### Forms\n",
        "\n",
        "Forms can be used to parameterize code. See the [forms example notebook](/notebooks/forms.ipynb) for more details."
      ]
    },
    {
      "cell_type": "markdown",
      "metadata": {
        "id": "i-Qr828rmgeF",
        "colab_type": "text"
      },
      "source": [
        "## PIP for Crypto"
      ]
    },
    {
      "cell_type": "code",
      "metadata": {
        "id": "VR6f34zQTqLU",
        "colab_type": "code",
        "outputId": "dc16ae6d-8832-450f-93e9-014e8d91a476",
        "colab": {
          "base_uri": "https://localhost:8080/",
          "height": 1510
        }
      },
      "source": [
        "!pip install pycryptodome\n",
        "!pip install pyDHE\n",
        "!pip install tinyec\n",
        "!pip install pynacl\n",
        "!pip install cryptography\n",
        "!pip install whirlpool\n",
        "!pip install eciespy"
      ],
      "execution_count": 0,
      "outputs": [
        {
          "output_type": "stream",
          "text": [
            "Collecting pycryptodome\n",
            "\u001b[?25l  Downloading https://files.pythonhosted.org/packages/6d/cf/4b66bf1ac2484ca39599b4576d681186b61b543c2d2c29f9aa4ba3cc53b5/pycryptodome-3.7.3-cp36-cp36m-manylinux1_x86_64.whl (7.5MB)\n",
            "\u001b[K    100% |████████████████████████████████| 7.5MB 3.9MB/s \n",
            "\u001b[?25hInstalling collected packages: pycryptodome\n",
            "Successfully installed pycryptodome-3.7.3\n",
            "Collecting pyDHE\n",
            "  Downloading https://files.pythonhosted.org/packages/5e/4f/95208451e095db1e6e7102b404f765302a5d851459ece66f9fd2e425052e/pyDHE-1.0.0-py2.py3-none-any.whl\n",
            "Collecting Crypto (from pyDHE)\n",
            "  Downloading https://files.pythonhosted.org/packages/fc/bb/0b812dc02e6357606228edfbf5808f5ca0a675a84273578c3a199e841cd8/crypto-1.4.1-py2.py3-none-any.whl\n",
            "Collecting Naked (from Crypto->pyDHE)\n",
            "\u001b[?25l  Downloading https://files.pythonhosted.org/packages/02/36/b8107b51adca73402ec1860d88f41d958e275e60eea6eeaa9c39ddb89a40/Naked-0.1.31-py2.py3-none-any.whl (590kB)\n",
            "\u001b[K    100% |████████████████████████████████| 593kB 9.4MB/s \n",
            "\u001b[?25hCollecting shellescape (from Crypto->pyDHE)\n",
            "  Downloading https://files.pythonhosted.org/packages/51/b6/986c99a10040beaaefca1ad6c93bd7738cb8e4f52f6caed13d3ed1caa7e4/shellescape-3.4.1-py2.py3-none-any.whl\n",
            "Requirement already satisfied: pyyaml in /usr/local/lib/python3.6/dist-packages (from Naked->Crypto->pyDHE) (3.13)\n",
            "Requirement already satisfied: requests in /usr/local/lib/python3.6/dist-packages (from Naked->Crypto->pyDHE) (2.18.4)\n",
            "Requirement already satisfied: chardet<3.1.0,>=3.0.2 in /usr/local/lib/python3.6/dist-packages (from requests->Naked->Crypto->pyDHE) (3.0.4)\n",
            "Requirement already satisfied: certifi>=2017.4.17 in /usr/local/lib/python3.6/dist-packages (from requests->Naked->Crypto->pyDHE) (2018.11.29)\n",
            "Requirement already satisfied: urllib3<1.23,>=1.21.1 in /usr/local/lib/python3.6/dist-packages (from requests->Naked->Crypto->pyDHE) (1.22)\n",
            "Requirement already satisfied: idna<2.7,>=2.5 in /usr/local/lib/python3.6/dist-packages (from requests->Naked->Crypto->pyDHE) (2.6)\n",
            "Installing collected packages: Naked, shellescape, Crypto, pyDHE\n",
            "Successfully installed Crypto-1.4.1 Naked-0.1.31 pyDHE-1.0.0 shellescape-3.4.1\n",
            "Collecting tinyec\n",
            "  Downloading https://files.pythonhosted.org/packages/c2/00/977e7339ae19b42ae10e1219e5b13c0f54ef703e019be5d3e0b6bf5b90fe/tinyec-0.3.1.tar.gz\n",
            "Building wheels for collected packages: tinyec\n",
            "  Building wheel for tinyec (setup.py) ... \u001b[?25ldone\n",
            "\u001b[?25h  Stored in directory: /root/.cache/pip/wheels/00/2d/bd/610c1d20033b8dfbb4435ece514e2a79e7ad1e8315dae1761f\n",
            "Successfully built tinyec\n",
            "Installing collected packages: tinyec\n",
            "Successfully installed tinyec-0.3.1\n",
            "Collecting pynacl\n",
            "\u001b[?25l  Downloading https://files.pythonhosted.org/packages/27/15/2cd0a203f318c2240b42cd9dd13c931ddd61067809fee3479f44f086103e/PyNaCl-1.3.0-cp34-abi3-manylinux1_x86_64.whl (759kB)\n",
            "\u001b[K    100% |████████████████████████████████| 768kB 6.7MB/s \n",
            "\u001b[?25hRequirement already satisfied: six in /usr/local/lib/python3.6/dist-packages (from pynacl) (1.11.0)\n",
            "Requirement already satisfied: cffi>=1.4.1 in /usr/local/lib/python3.6/dist-packages (from pynacl) (1.11.5)\n",
            "Requirement already satisfied: pycparser in /usr/local/lib/python3.6/dist-packages (from cffi>=1.4.1->pynacl) (2.19)\n",
            "Installing collected packages: pynacl\n",
            "Successfully installed pynacl-1.3.0\n",
            "Collecting cryptography\n",
            "\u001b[?25l  Downloading https://files.pythonhosted.org/packages/98/71/e632e222f34632e0527dd41799f7847305e701f38f512d81bdf96009bca4/cryptography-2.5-cp34-abi3-manylinux1_x86_64.whl (2.4MB)\n",
            "\u001b[K    100% |████████████████████████████████| 2.4MB 6.8MB/s \n",
            "\u001b[?25hCollecting asn1crypto>=0.21.0 (from cryptography)\n",
            "\u001b[?25l  Downloading https://files.pythonhosted.org/packages/ea/cd/35485615f45f30a510576f1a56d1e0a7ad7bd8ab5ed7cdc600ef7cd06222/asn1crypto-0.24.0-py2.py3-none-any.whl (101kB)\n",
            "\u001b[K    100% |████████████████████████████████| 102kB 15.5MB/s \n",
            "\u001b[?25hRequirement already satisfied: six>=1.4.1 in /usr/local/lib/python3.6/dist-packages (from cryptography) (1.11.0)\n",
            "Requirement already satisfied: cffi!=1.11.3,>=1.8 in /usr/local/lib/python3.6/dist-packages (from cryptography) (1.11.5)\n",
            "Requirement already satisfied: pycparser in /usr/local/lib/python3.6/dist-packages (from cffi!=1.11.3,>=1.8->cryptography) (2.19)\n",
            "Installing collected packages: asn1crypto, cryptography\n",
            "Successfully installed asn1crypto-0.24.0 cryptography-2.5\n",
            "Collecting whirlpool\n",
            "\u001b[?25l  Downloading https://files.pythonhosted.org/packages/4f/f0/a16d7ab69b445e5b812fccf8246a9a9c2dfebd430c6c1d6de6d857c00e79/Whirlpool-1.0.0.tar.gz (41kB)\n",
            "\u001b[K    100% |████████████████████████████████| 51kB 2.0MB/s \n",
            "\u001b[?25hBuilding wheels for collected packages: whirlpool\n",
            "  Building wheel for whirlpool (setup.py) ... \u001b[?25ldone\n",
            "\u001b[?25h  Stored in directory: /root/.cache/pip/wheels/8c/cb/d7/6a6bb8c6af497fb12475ff61571176bd13a1cbc245446b3103\n",
            "Successfully built whirlpool\n",
            "Installing collected packages: whirlpool\n",
            "Successfully installed whirlpool-1.0.0\n",
            "Collecting eciespy\n",
            "  Downloading https://files.pythonhosted.org/packages/8d/66/905c552baeb1cc98d429ee03ae34b1535aa88f45a03e9b5c81e5b19ee7e2/eciespy-0.1.5-py3-none-any.whl\n",
            "Collecting eth-keys (from eciespy)\n",
            "  Downloading https://files.pythonhosted.org/packages/3e/4f/a11b4624b4e5d346fd512d190c0d7410ac8c384ef1cb8b681cc4164a26d8/eth_keys-0.2.1-py3-none-any.whl\n",
            "Collecting pycryptodomex (from eciespy)\n",
            "\u001b[?25l  Downloading https://files.pythonhosted.org/packages/88/8c/17692d31b2a5cad6369582921b3136c9505f127e022569ac671b758f1514/pycryptodomex-3.7.3-cp36-cp36m-manylinux1_x86_64.whl (7.5MB)\n",
            "\u001b[K    100% |████████████████████████████████| 7.5MB 4.2MB/s \n",
            "\u001b[?25hCollecting pysha3 (from eciespy)\n",
            "\u001b[?25l  Downloading https://files.pythonhosted.org/packages/32/2a/b93e0c6d90c7c45e2fab35d7ef349e8c5bd7387a048e961b041fd9521556/pysha3-1.0.2-cp36-cp36m-manylinux1_x86_64.whl (127kB)\n",
            "\u001b[K    100% |████████████████████████████████| 133kB 32.6MB/s \n",
            "\u001b[?25hCollecting coincurve (from eciespy)\n",
            "\u001b[?25l  Downloading https://files.pythonhosted.org/packages/d2/fa/1775538b35bc550d3fdd04ffa44ff4a7d25d8f9742c06bc764e2448e30bd/coincurve-11.0.0-cp36-cp36m-manylinux1_x86_64.whl (525kB)\n",
            "\u001b[K    100% |████████████████████████████████| 532kB 21.2MB/s \n",
            "\u001b[?25hCollecting eth-utils<2.0.0,>=1.3.0 (from eth-keys->eciespy)\n",
            "  Downloading https://files.pythonhosted.org/packages/91/c8/0ef940843b45377a8d150c94fa8d147607180e89f5d604d3a2be646d9d96/eth_utils-1.4.1-py3-none-any.whl\n",
            "Requirement already satisfied: asn1crypto in /usr/local/lib/python3.6/dist-packages (from coincurve->eciespy) (0.24.0)\n",
            "Requirement already satisfied: cffi>=1.3.0 in /usr/local/lib/python3.6/dist-packages (from coincurve->eciespy) (1.11.5)\n",
            "Collecting eth-hash<1.0.0,>=0.1.0 (from eth-utils<2.0.0,>=1.3.0->eth-keys->eciespy)\n",
            "  Downloading https://files.pythonhosted.org/packages/0d/d8/0f0c8d4ccaa4c8d25524fd1ed9f5c6d9551b52b74b973f338de3f0a23111/eth_hash-0.2.0-py3-none-any.whl\n",
            "Collecting eth-typing<3.0.0,>=1.0.0 (from eth-utils<2.0.0,>=1.3.0->eth-keys->eciespy)\n",
            "  Downloading https://files.pythonhosted.org/packages/88/df/19e17ca63aa0285ef0c2e95231f2f6a8d99a69ee58817c22b6b417067460/eth_typing-2.0.0-py3-none-any.whl\n",
            "Requirement already satisfied: cytoolz<1.0.0,>=0.8.2; implementation_name == \"cpython\" in /usr/local/lib/python3.6/dist-packages (from eth-utils<2.0.0,>=1.3.0->eth-keys->eciespy) (0.9.0.1)\n",
            "Requirement already satisfied: pycparser in /usr/local/lib/python3.6/dist-packages (from cffi>=1.3.0->coincurve->eciespy) (2.19)\n",
            "Requirement already satisfied: toolz>=0.8.0 in /usr/local/lib/python3.6/dist-packages (from cytoolz<1.0.0,>=0.8.2; implementation_name == \"cpython\"->eth-utils<2.0.0,>=1.3.0->eth-keys->eciespy) (0.9.0)\n",
            "Installing collected packages: eth-hash, eth-typing, eth-utils, eth-keys, pycryptodomex, pysha3, coincurve, eciespy\n",
            "Successfully installed coincurve-11.0.0 eciespy-0.1.5 eth-hash-0.2.0 eth-keys-0.2.1 eth-typing-2.0.0 eth-utils-1.4.1 pycryptodomex-3.7.3 pysha3-1.0.2\n"
          ],
          "name": "stdout"
        }
      ]
    },
    {
      "cell_type": "code",
      "metadata": {
        "id": "lDkH7Vf-SdWW",
        "colab_type": "code",
        "outputId": "e924559f-a3e7-4c67-9e48-57ff633d446e",
        "colab": {
          "base_uri": "https://localhost:8080/",
          "height": 123
        }
      },
      "source": [
        "from Crypto.Cipher import AES\n",
        "import binascii\n",
        "\n",
        "key = binascii.unhexlify('2b7e151628aed2a6abf7158809cf4f3c')\n",
        "iv = binascii.unhexlify('000102030405060708090a0b0c0d0e0f')\n",
        "\n",
        "aes = AES.new(key, AES.MODE_CBC, iv=iv)\n",
        "cipher = aes.encrypt(binascii.unhexlify('6bc1bee22e409f96e93d7e117393172aae2d8a571e03ac9c9eb76fac45af8e51'))\n",
        "print(binascii.hexlify(cipher))\n",
        "print('iv:', binascii.hexlify(aes.iv))\n",
        "cipher = aes.encrypt(binascii.unhexlify('ae2d8a571e03ac9c9eb76fac45af8e51'))\n",
        "print(binascii.hexlify(cipher))\n",
        "print('iv:', binascii.hexlify(aes.iv))\n",
        "cipher = aes.encrypt(binascii.unhexlify('30c81c46a35ce411e5fbc1191a0a52ef'))\n",
        "print(binascii.hexlify(cipher))\n",
        "\n",
        "cipher = aes.encrypt(binascii.unhexlify('f69f2445df4f9b17ad2b417be66c3710'))\n",
        "print(binascii.hexlify(cipher))"
      ],
      "execution_count": 0,
      "outputs": [
        {
          "output_type": "stream",
          "text": [
            "b'7649abac8119b246cee98e9b12e9197d5086cb9b507219ee95db113a917678b2'\n",
            "iv: b'000102030405060708090a0b0c0d0e0f'\n",
            "b'b5c19901169b7bebe215c2956c81d974'\n",
            "iv: b'000102030405060708090a0b0c0d0e0f'\n",
            "b'df6b45f7c85c4881cb66e85489672e10'\n",
            "b'3017b38e8bc9282d87f778aeaf5de1e2'\n"
          ],
          "name": "stdout"
        }
      ]
    },
    {
      "cell_type": "markdown",
      "metadata": {
        "id": "sI-2f9IBtSee",
        "colab_type": "text"
      },
      "source": [
        "## AES CBC"
      ]
    },
    {
      "cell_type": "code",
      "metadata": {
        "id": "JrCBqGuVUNEW",
        "colab_type": "code",
        "outputId": "c88108b5-8f43-46cd-a98c-27258641dcf2",
        "colab": {
          "base_uri": "https://localhost:8080/",
          "height": 143
        }
      },
      "source": [
        "from Crypto.Cipher import AES\n",
        "from Crypto.Util.Padding import pad\n",
        "from Crypto.Util.Padding import unpad\n",
        "import Crypto.Hash\n",
        "import Crypto.Random\n",
        "\n",
        "import hashlib\n",
        "import hmac\n",
        "import whirlpool\n",
        "import zlib\n",
        "\n",
        "import binascii\n",
        "\n",
        "\n",
        "plaintext = b'''dsfafsadjfas;fjlsadfjl;sdkjfklsajflkdsjf\n",
        "The design of the HMAC specification was motivated by the existence of attacks on more trivial mechanisms for combining a key with a hash function. For example, one might assume the same security that HMAC provides could be achieved with MAC = H(key || message). However, this method suffers from a serious flaw: with most hash functions, it is easy to append data to the message without knowing the key and obtain another valid MAC (\"length-extension attack\"). The alternative, appending the key using MAC = H(message || key), suffers from the problem that an attacker who can find collision in the (unkeyed) hash function has a collision in the MAC (as two messages m1 and m2 yielding the same hash will provide the same start condition to the hash function before the appended key is hashed, hence the final hash will be the same). Using MAC = H(key || message || key) is better, but various security papers have suggested vulnerabilities with this approach, even when two different keys are used.[1][3][4]\n",
        "No known extension attacks have been found against the current HMAC specification which is defined as H(key || H(key || message)) because the outer application of the hash function masks the intermediate result of the internal hash. The values of ipad and opad are not critical to the security of the algorithm, but were defined in such a way to have a large Hamming distance from each other and so the inner and outer keys will have fewer bits in common. The security reduction of HMAC does require them to be different in at least one bit.[citation needed]\n",
        "The Keccak hash function, that was selected by NIST as the SHA-3 competition winner, doesn't need this nested approach and can be used to generate a MAC by simply prepending the key to the message, as it is not susceptible to length-extension attacks.[5]\n",
        "'''\n",
        "\n",
        "# 256-bit AES-CBC\n",
        "def AES_CBC_Test():\n",
        "\n",
        "  rand = Crypto.Random.new()\n",
        "  key = rand.read(32)\n",
        "  aes = AES.new(key, AES.MODE_CBC)\n",
        "  print(aes.block_size)\n",
        "  plaintext_padded = pad(plaintext, AES.block_size)\n",
        "\n",
        "  # encrypt\n",
        "  ciphertext = aes.encrypt(plaintext_padded)\n",
        "\n",
        "  out = {\n",
        "      'ciphertext': binascii.hexlify(ciphertext),\n",
        "      'iv': binascii.hexlify(aes.iv),\n",
        "      'key': binascii.hexlify(key)\n",
        "  }\n",
        "\n",
        "  print(out)\n",
        "  pad_txt = 16 - len(plaintext) % 16\n",
        "  print(pad_txt)\n",
        "  \n",
        "  # decrypt\n",
        "  decrypt = AES.new(key, AES.MODE_CBC, aes.iv)\n",
        "  decrypt_text = unpad(decrypt.decrypt(ciphertext), AES.block_size)\n",
        "\n",
        "  print(decrypt_text)\n",
        "  print(plaintext)\n",
        "  print(decrypt_text == plaintext)\n",
        "\n",
        "  \n",
        "\n",
        "# AES-GCM 128 bits\n",
        "def AES_GCM():\n",
        "  header = b'my header'\n",
        "  data = plaintext\n",
        "\n",
        "  # only works 128-bits cipher.\n",
        "  key = Crypto.Random.get_random_bytes(16)\n",
        "  aes = Crypto.Cipher.AES.new(key, AES.MODE_GCM)\n",
        "  aes.update(header)\n",
        "  ciphertext, tag = aes.encrypt_and_digest(data)\n",
        "  out = {\n",
        "      'key': binascii.hexlify(key),\n",
        "      'nonce': binascii.hexlify(aes.nonce),\n",
        "      'header': binascii.hexlify(header),\n",
        "      'ciphertext': binascii.hexlify(ciphertext),\n",
        "      'tag': binascii.hexlify(tag)\n",
        "  }\n",
        "  print(out)\n",
        "  \n",
        "  \n",
        "  out_info = {k:binascii.unhexlify(out[k]) for k in out}\n",
        "  \n",
        "  \n",
        "  # decrypt:\n",
        "  aes_gcm = Crypto.Cipher.AES.new(key, AES.MODE_GCM, nonce=out_info['nonce'])\n",
        "  aes_gcm.update(out_info['header'])\n",
        "  text = aes_gcm.decrypt_and_verify(out_info['ciphertext'], out_info['tag'])\n",
        "  assert text == data\n",
        "  print(text)\n",
        "\n",
        "\n",
        "  \n",
        "# AES-256-GCM + Scrypt\n",
        "def AES_256_GCM_SCRYPT():\n",
        "  password = b'My PassWord'\n",
        "  data = plaintext\n",
        "  kdf_salt = Crypto.Random.get_random_bytes(16)\n",
        "  secret_key = hashlib.scrypt(password, salt=kdf_salt, n=8, r=256, p=1, maxmem=32*1024*1024, dklen=32)\n",
        "  aes_cipher = AES.new(secret_key, AES.MODE_GCM)\n",
        "  ciphertext, tag = aes_cipher.encrypt_and_digest(data)\n",
        "  out = {\n",
        "      'key': binascii.hexlify(secret_key),\n",
        "      'nonce': binascii.hexlify(aes_cipher.nonce),\n",
        "      'ciphertext': binascii.hexlify(ciphertext),\n",
        "      'tag': binascii.hexlify(tag),\n",
        "      'kdf_salt': binascii.hexlify(kdf_salt)\n",
        "  }\n",
        "  print(out)\n",
        "  \n",
        "  \n",
        "  out_info = {k:binascii.unhexlify(out[k]) for k in out}\n",
        "  \n",
        "  # Decrypt:\n",
        "  key = hashlib.scrypt(password, salt=out_info['kdf_salt'], n=8, r=256, p=1, maxmem=32*1024*1024, dklen=32)\n",
        "  aes_decrypt = AES.new(key, AES.MODE_GCM, nonce=out_info['nonce'])\n",
        "  text = aes_decrypt.decrypt_and_verify(out_info['ciphertext'], out_info['tag'])\n",
        "  assert text == plaintext\n",
        "  print(text)\n",
        "  \n",
        "  \n",
        "# 256-bit AES-CMAC\n",
        "\n",
        "def AES_CMAC():\n",
        "  '''\n",
        "  http://rubenlaguna.com/post/2015-02-05-compute-aes-cmac-using-openssl-slash-libcrypto/\n",
        "  // K, M and T from \n",
        "  // http://csrc.nist.gov/publications/nistpubs/800-38B/Updated_CMAC_Examples.pdf\n",
        "  // D.1 AES-128\n",
        "  '''\n",
        "  # K: 2b7e1516 28aed2a6 abf71588 09cf4f3c\n",
        "  key = binascii.unhexlify(b'2b7e151628aed2a6abf7158809cf4f3c')\n",
        "  # M: 6bc1bee2 2e409f96 e93d7e11 7393172a Mlen: 128\n",
        "  msg = binascii.unhexlify(b'6bc1bee22e409f96e93d7e117393172a')\n",
        "  cmac = Crypto.Hash.CMAC.new(key, ciphermod=AES)\n",
        "  cmac.update(msg)\n",
        "  print(cmac.hexdigest())\n",
        "  # expected result T = 070a16b4 6b4d4144 f79bdd9d d04a287c\n",
        "  assert cmac.hexdigest() == '070a16b46b4d4144f79bdd9dd04a287c'\n",
        "  \n",
        "  out = {\n",
        "      'msg' : msg,\n",
        "      'key' : key,\n",
        "      'cmac': binascii.unhexlify(cmac.hexdigest())\n",
        "  }\n",
        "  \n",
        "  # Verify\n",
        "  cmac_verify = Crypto.Hash.CMAC.new(key, ciphermod=AES)\n",
        "  cmac_verify.update(out['msg'])\n",
        "  try:\n",
        "    cmac_verify.verify(out['cmac'])\n",
        "    print('The message is authentic.')\n",
        "  except ValueError:\n",
        "    print('The message or the key is wrong.')\n",
        "    \n",
        "\n",
        "def Crypto_Hash():\n",
        "  '''\n",
        "  https://www.fileformat.info/tool/hash.htm\n",
        "  Original text\tCalculate a hash (aka message digest) of data. Implementations are from Sun (java.security.MessageDigest) and GNU\n",
        "  Original bytes\t43616c63756c617465206120686173682028616b61206d6573... (length=113)\n",
        "  '''\n",
        "  Adler32 = 'f22e2838'\n",
        "  CRC32\t= '8474d0b7'\n",
        "  Haval\t= '2ae241707e427ed85ce6a491f1f964f9'\n",
        "  MD2\t= '1011884118caf2737f8bb04809d49630'\n",
        "  MD4\t= 'ed58fe6cd0cd22f77a381945125993e2'\n",
        "  MD5\t= 'a291b016dff68b3140e01a4c9eb32ef6'\n",
        "  RipeMD128\t= '556577373952482498d781f63e5fda99'\n",
        "  RipeMD160\t= '93f1ad5e68305dbb24dfe9b9f946c190690cf119'\n",
        "  SHA1 = 'e628ac6a98b6fb76d0841aa785713e10b5402585'\n",
        "  SHA256 = 'fde3d081a3047399a62eb7eadd4068a67c0f20359ac293bf5cad698bee48e0ab'\n",
        "  SHA384 = '3d4f35cdf8f9c616b7c5f48180967910ef2d56faed21c532e777cfc4fc5fc5549fb3c16076640571eb341b7c57f3a0b7'\n",
        "  SHA512 = '29a49247bdc996c81cc1cbbcd1124d0e7c74f23c39a4dcc496380894f03116e52f5ce6a4b28b828a60b151f3c01b1565538b5c8d236ba1e4b2c0a6359959705b'\n",
        "  Tiger = '1b75cc893121fc273d27ed8f4cae0077448a8ebcf05b44b8'\n",
        "  Whirlpool = '36bad3ebdd8e21beae6246d1f71218bc3571b1f542d439174e8894aca265f13cac751f171be02b94a89ab2186edb9026edd40b6f0c16c9c2290cb464a59e1079'\n",
        "\n",
        "  text = '''Calculate a hash (aka message digest) of data. Implementations are from Sun (java.security.MessageDigest) and GNU'''\n",
        "  text = text.encode('utf-8')\n",
        "  # Adler32  \n",
        "  adler32 = hex(zlib.adler32(text))[2:]\n",
        "  assert adler32 == Adler32\n",
        "  # CRC32\n",
        "  crc32 = hex(zlib.crc32(text))[2:]\n",
        "  assert crc32 == CRC32\n",
        "  \n",
        "  \n",
        "  print('Adler32:', adler32)\n",
        "  print('CRC32:', crc32)\n",
        "  \n",
        "  \n",
        "  # RipeMD160\n",
        "  ripemd160 = binascii.hexlify(hashlib.new('ripemd160', text).digest())\n",
        "  print('ripemd160: ', ripemd160)\n",
        "  assert RipeMD160 == ripemd160.decode('utf-8')\n",
        "  \n",
        "  m = hashlib.sha1()\n",
        "  m.update(text)\n",
        "  sha = m.digest()\n",
        "  print('SHA1:', binascii.hexlify(sha))\n",
        "  \n",
        "  m = hashlib.sha224()\n",
        "  m.update(text)\n",
        "  sha = m.digest()\n",
        "  print('SHA224:', binascii.hexlify(sha))\n",
        "  \n",
        "  m = hashlib.sha384()\n",
        "  m.update(text)\n",
        "  sha = m.digest()\n",
        "  print('SHA384:', binascii.hexlify(sha))\n",
        "  \n",
        "  m = hashlib.sha512()\n",
        "  m.update(text)\n",
        "  sha1 = m.digest()\n",
        "  \n",
        "  print('SHA512:', binascii.hexlify(sha))\n",
        "  \n",
        "  # whirlpool\n",
        "  h = whirlpool.new(text)\n",
        "  wh = h.hexdigest()\n",
        "  print(\"Whirlpool: \", wh)\n",
        "  # assert wh == Whirlpool\n",
        "  \n",
        "  \n",
        "  # Keyed hashing\n",
        "  secret_key = Crypto.Random.get_random_bytes(64)\n",
        "  auth_size = 16\n",
        "  \n",
        "  def sign(data):\n",
        "    h = hashlib.blake2b(digest_size=auth_size, key=secret_key)\n",
        "    h.update(data)\n",
        "    return h.hexdigest().encode('utf-8')\n",
        "  \n",
        "  def verify(data, sig):\n",
        "    good_sig = sign(data)\n",
        "    return hmac.compare_digest(good_sig, sig)\n",
        "  \n",
        "  sig = sign(text)\n",
        "  print('text:%s\\nsig: %s' % (text, sig))\n",
        "\n",
        "  v1 = verify(text, sig)\n",
        "  v2 = verify(text + b'aaa', sig)\n",
        "  print('V1:', v1, 'V2:', v2)\n",
        "  \n",
        "  \n",
        "  # Key derivation\n",
        "  # https://en.wikipedia.org/wiki/PBKDF2\n",
        "  dk = hashlib.pbkdf2_hmac('sha256', text, b'my salt', 100000)\n",
        "  print('dk: ', binascii.hexlify(dk))\n",
        "  \n",
        "  sk = hashlib.scrypt(text, salt=b'my salt', n=8, r=256, p=1, maxmem=32*1024*1024, dklen=64)\n",
        "  print('sk: ', binascii.hexlify(sk))\n",
        "  \n",
        "  \n",
        "  \n",
        "  \n",
        "AES_CBC_Test()\n",
        "# Crypto_Hash()\n",
        "# AES_GCM()\n",
        "# AES_256_GCM_SCRYPT()\n",
        "# AES_CMAC()\n"
      ],
      "execution_count": 0,
      "outputs": [
        {
          "output_type": "stream",
          "text": [
            "16\n",
            "{'ciphertext': b'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', 'iv': b'ec0b694890b037bbd22b1b0dd9e92359', 'key': b'c42949cf4a9f009737c786d3b9bb4113f720a305a08c27c5cdf964a9c6de96c3'}\n",
            "7\n",
            "b'dsfafsadjfas;fjlsadfjl;sdkjfklsajflkdsjf\\nThe design of the HMAC specification was motivated by the existence of attacks on more trivial mechanisms for combining a key with a hash function. For example, one might assume the same security that HMAC provides could be achieved with MAC = H(key || message). However, this method suffers from a serious flaw: with most hash functions, it is easy to append data to the message without knowing the key and obtain another valid MAC (\"length-extension attack\"). The alternative, appending the key using MAC = H(message || key), suffers from the problem that an attacker who can find collision in the (unkeyed) hash function has a collision in the MAC (as two messages m1 and m2 yielding the same hash will provide the same start condition to the hash function before the appended key is hashed, hence the final hash will be the same). Using MAC = H(key || message || key) is better, but various security papers have suggested vulnerabilities with this approach, even when two different keys are used.[1][3][4]\\nNo known extension attacks have been found against the current HMAC specification which is defined as H(key || H(key || message)) because the outer application of the hash function masks the intermediate result of the internal hash. The values of ipad and opad are not critical to the security of the algorithm, but were defined in such a way to have a large Hamming distance from each other and so the inner and outer keys will have fewer bits in common. The security reduction of HMAC does require them to be different in at least one bit.[citation needed]\\nThe Keccak hash function, that was selected by NIST as the SHA-3 competition winner, doesn\\'t need this nested approach and can be used to generate a MAC by simply prepending the key to the message, as it is not susceptible to length-extension attacks.[5]\\n'\n",
            "b'dsfafsadjfas;fjlsadfjl;sdkjfklsajflkdsjf\\nThe design of the HMAC specification was motivated by the existence of attacks on more trivial mechanisms for combining a key with a hash function. For example, one might assume the same security that HMAC provides could be achieved with MAC = H(key || message). However, this method suffers from a serious flaw: with most hash functions, it is easy to append data to the message without knowing the key and obtain another valid MAC (\"length-extension attack\"). The alternative, appending the key using MAC = H(message || key), suffers from the problem that an attacker who can find collision in the (unkeyed) hash function has a collision in the MAC (as two messages m1 and m2 yielding the same hash will provide the same start condition to the hash function before the appended key is hashed, hence the final hash will be the same). Using MAC = H(key || message || key) is better, but various security papers have suggested vulnerabilities with this approach, even when two different keys are used.[1][3][4]\\nNo known extension attacks have been found against the current HMAC specification which is defined as H(key || H(key || message)) because the outer application of the hash function masks the intermediate result of the internal hash. The values of ipad and opad are not critical to the security of the algorithm, but were defined in such a way to have a large Hamming distance from each other and so the inner and outer keys will have fewer bits in common. The security reduction of HMAC does require them to be different in at least one bit.[citation needed]\\nThe Keccak hash function, that was selected by NIST as the SHA-3 competition winner, doesn\\'t need this nested approach and can be used to generate a MAC by simply prepending the key to the message, as it is not susceptible to length-extension attacks.[5]\\n'\n",
            "True\n"
          ],
          "name": "stdout"
        }
      ]
    },
    {
      "cell_type": "code",
      "metadata": {
        "id": "m1o6IvgXAXle",
        "colab_type": "code",
        "colab": {}
      },
      "source": [
        ""
      ],
      "execution_count": 0,
      "outputs": []
    },
    {
      "cell_type": "markdown",
      "metadata": {
        "id": "QyunbGGHiqtn",
        "colab_type": "text"
      },
      "source": [
        "## DHKE\n",
        "### (g^a)^b mod p == (g^b)^a mod p\n",
        "### A= g^a, B = g^b\n",
        "\n",
        "### shared_key = A^b mod p = (g^a mod p)^b = (g^a)^b mod p\n",
        "### shared_key = B^b mod p = (g^b mod p)^a = (g^b)^b mod p\n"
      ]
    },
    {
      "cell_type": "code",
      "metadata": {
        "id": "UwZ0rgfHjCkc",
        "colab_type": "code",
        "colab": {}
      },
      "source": [
        "import pyDHE\n",
        "import binascii\n",
        "\n",
        "group = 18\n",
        "\n",
        "alice = pyDHE.new(group=group)\n",
        "alice_pub_key = alice.getPublicKey()\n",
        "print('Alice public key: ', hex(alice_pub_key)[2:])\n",
        "\n",
        "bob = pyDHE.new(group=group)\n",
        "bob_pub_key = bob.getPublicKey()\n",
        "print('Bob public key: ', hex(bob_pub_key)[2:])\n",
        "\n",
        "\n",
        "alice_shared_key = alice.update(bob_pub_key)\n",
        "print('Alice shared key: ', hex(alice_shared_key)[2:])\n",
        "\n",
        "bob_shared_key = bob.update(alice_pub_key)\n",
        "print('Bob shared key: ', hex(bob_shared_key)[2:])\n",
        "\n",
        "assert bob_shared_key == alice_shared_key\n",
        "\n",
        "# https://tools.ietf.org/html/rfc3526#section-3\n",
        "# group 18 prime: 2^8192 - 2^8128 - 1 + 2^64 * { [2^8062 pi] + 4743158 }\n",
        "\n",
        "prime_8192_bits = '''\n",
        "FFFFFFFF FFFFFFFF C90FDAA2 2168C234 C4C6628B 80DC1CD1\n",
        "29024E08 8A67CC74 020BBEA6 3B139B22 514A0879 8E3404DD\n",
        "EF9519B3 CD3A431B 302B0A6D F25F1437 4FE1356D 6D51C245\n",
        "E485B576 625E7EC6 F44C42E9 A637ED6B 0BFF5CB6 F406B7ED\n",
        "EE386BFB 5A899FA5 AE9F2411 7C4B1FE6 49286651 ECE45B3D\n",
        "C2007CB8 A163BF05 98DA4836 1C55D39A 69163FA8 FD24CF5F\n",
        "83655D23 DCA3AD96 1C62F356 208552BB 9ED52907 7096966D\n",
        "670C354E 4ABC9804 F1746C08 CA18217C 32905E46 2E36CE3B\n",
        "E39E772C 180E8603 9B2783A2 EC07A28F B5C55DF0 6F4C52C9\n",
        "DE2BCBF6 95581718 3995497C EA956AE5 15D22618 98FA0510\n",
        "15728E5A 8AAAC42D AD33170D 04507A33 A85521AB DF1CBA64\n",
        "ECFB8504 58DBEF0A 8AEA7157 5D060C7D B3970F85 A6E1E4C7\n",
        "ABF5AE8C DB0933D7 1E8C94E0 4A25619D CEE3D226 1AD2EE6B\n",
        "F12FFA06 D98A0864 D8760273 3EC86A64 521F2B18 177B200C\n",
        "BBE11757 7A615D6C 770988C0 BAD946E2 08E24FA0 74E5AB31\n",
        "43DB5BFC E0FD108E 4B82D120 A9210801 1A723C12 A787E6D7\n",
        "88719A10 BDBA5B26 99C32718 6AF4E23C 1A946834 B6150BDA\n",
        "2583E9CA 2AD44CE8 DBBBC2DB 04DE8EF9 2E8EFC14 1FBECAA6\n",
        "287C5947 4E6BC05D 99B2964F A090C3A2 233BA186 515BE7ED\n",
        "1F612970 CEE2D7AF B81BDD76 2170481C D0069127 D5B05AA9\n",
        "93B4EA98 8D8FDDC1 86FFB7DC 90A6C08F 4DF435C9 34028492\n",
        "36C3FAB4 D27C7026 C1D4DCB2 602646DE C9751E76 3DBA37BD\n",
        "F8FF9406 AD9E530E E5DB382F 413001AE B06A53ED 9027D831\n",
        "179727B0 865A8918 DA3EDBEB CF9B14ED 44CE6CBA CED4BB1B\n",
        "DB7F1447 E6CC254B 33205151 2BD7AF42 6FB8F401 378CD2BF\n",
        "5983CA01 C64B92EC F032EA15 D1721D03 F482D7CE 6E74FEF6\n",
        "D55E702F 46980C82 B5A84031 900B1C9E 59E7C97F BEC7E8F3\n",
        "23A97A7E 36CC88BE 0F1D45B7 FF585AC5 4BD407B2 2B4154AA\n",
        "CC8F6D7E BF48E1D8 14CC5ED2 0F8037E0 A79715EE F29BE328\n",
        "06A1D58B B7C5DA76 F550AA3D 8A1FBFF0 EB19CCB1 A313D55C\n",
        "DA56C9EC 2EF29632 387FE8D7 6E3C0468 043E8F66 3F4860EE\n",
        "12BF2D5B 0B7474D6 E694F91E 6DBE1159 74A3926F 12FEE5E4\n",
        "38777CB6 A932DF8C D8BEC4D0 73B931BA 3BC832B6 8D9DD300\n",
        "741FA7BF 8AFC47ED 2576F693 6BA42466 3AAB639C 5AE4F568\n",
        "3423B474 2BF1C978 238F16CB E39D652D E3FDB8BE FC848AD9\n",
        "22222E04 A4037C07 13EB57A8 1A23F0C7 3473FC64 6CEA306B\n",
        "4BCBC886 2F8385DD FA9D4B7F A2C087E8 79683303 ED5BDD3A\n",
        "062B3CF5 B3A278A6 6D2A13F8 3F44F82D DF310EE0 74AB6A36\n",
        "4597E899 A0255DC1 64F31CC5 0846851D F9AB4819 5DED7EA1\n",
        "B1D510BD 7EE74D73 FAF36BC3 1ECFA268 359046F4 EB879F92\n",
        "4009438B 481C6CD7 889A002E D5EE382B C9190DA6 FC026E47\n",
        "9558E447 5677E9AA 9E3050E2 765694DF C81F56E8 80B96E71\n",
        "60C980DD 98EDD3DF FFFFFFFF FFFFFFFF\n",
        "'''\n",
        "\n",
        "p = ''.join([''.join(x.split(' ')) for x in prime_8192_bits.split('\\n') if x])\n",
        "print(p)\n",
        "p = int('0x'+ p, base=16)\n",
        "print(p)\n",
        "print(hex(p))\n"
      ],
      "execution_count": 0,
      "outputs": []
    },
    {
      "cell_type": "markdown",
      "metadata": {
        "id": "2gn74BVtSTXJ",
        "colab_type": "text"
      },
      "source": [
        "## ECDH\n",
        "### (a \\* G) \\* b = (b \\* G) \\* a\n",
        "### shared_key = alice_priv_key \\* bob_pub_key = bob_priv_key \\* alice_pub_key\n",
        "\n"
      ]
    },
    {
      "cell_type": "code",
      "metadata": {
        "id": "PAI4qcDwh3pw",
        "colab_type": "code",
        "outputId": "4655f3b0-d778-4209-9e57-944b91fcb5f6",
        "colab": {
          "base_uri": "https://localhost:8080/",
          "height": 143
        }
      },
      "source": [
        "from tinyec import registry\n",
        "import secrets\n",
        "\n",
        "def compress_ecc_pub_key(pub_key):\n",
        "  return hex(pub_key.x) + ('02' if pub_key.y % 2 == 0 else '03')\n",
        "\n",
        "curve = registry.get_curve('brainpoolP256r1')\n",
        "print(curve)\n",
        "print(curve.field)\n",
        "print(curve.g)\n",
        "\n",
        "alice_priv_key = secrets.randbelow(curve.field.n)\n",
        "alice_pub_key = alice_priv_key * curve.g\n",
        "print('Alice public key: ', alice_pub_key, compress_ecc_pub_key(alice_pub_key))\n",
        "\n",
        "bob_priv_key = secrets.randbelow(curve.field.n)\n",
        "bob_pub_key = bob_priv_key * curve.g\n",
        "print('Bob public key: ', bob_pub_key, compress_ecc_pub_key(bob_pub_key))\n",
        "\n",
        "\n",
        "# MIX color :-)\n",
        "\n",
        "alice_shared_key = alice_priv_key * bob_pub_key\n",
        "bob_shared_key = bob_priv_key * alice_pub_key\n",
        "\n",
        "print('Equal shared keys: ', alice_shared_key == bob_shared_key, alice_shared_key)\n"
      ],
      "execution_count": 0,
      "outputs": [
        {
          "output_type": "stream",
          "text": [
            "\"brainpoolP256r1\" => y^2 = x^3 + 56698187605326110043627228396178346077120614539475214109386828188763884139993x + 17577232497321838841075697789794520262950426058923084567046852300633325438902 (mod 76884956397045344220809746629001649093037950200943055203735601445031516197751)\n",
            "Subgroup => generator (63243729749562333355292243550312970334778175571054726587095381623627144114786, 38218615093753523893122277964030810387585405539772602581557831887485717997975), order: 76884956397045344220809746629001649092737531784414529538755519063063536359079, cofactor: 1 on Field => prime 76884956397045344220809746629001649093037950200943055203735601445031516197751\n",
            "(63243729749562333355292243550312970334778175571054726587095381623627144114786, 38218615093753523893122277964030810387585405539772602581557831887485717997975) on \"brainpoolP256r1\" => y^2 = x^3 + 56698187605326110043627228396178346077120614539475214109386828188763884139993x + 17577232497321838841075697789794520262950426058923084567046852300633325438902 (mod 76884956397045344220809746629001649093037950200943055203735601445031516197751)\n",
            "Alice public key:  (29566190674152230445448543486459000768166541582097187423363459857582408936600, 53048693583117632860836673438148209834330482021717567265411760584223360501571) on \"brainpoolP256r1\" => y^2 = x^3 + 56698187605326110043627228396178346077120614539475214109386828188763884139993x + 17577232497321838841075697789794520262950426058923084567046852300633325438902 (mod 76884956397045344220809746629001649093037950200943055203735601445031516197751) 0x415ddef30276cde64fb4b786348e011352e96d391b0b7f05f96504721eed2c9803\n",
            "Bob public key:  (60725877383899660926469495988705109949956721392760250335547712834639096298894, 74549915479650431921529155530359368634319098504963956803350031266268259182094) on \"brainpoolP256r1\" => y^2 = x^3 + 56698187605326110043627228396178346077120614539475214109386828188763884139993x + 17577232497321838841075697789794520262950426058923084567046852300633325438902 (mod 76884956397045344220809746629001649093037950200943055203735601445031516197751) 0x8641a0eafb85a4f32ae40947d583afac4140d4f731973dfddf682e1ccef9bd8e02\n",
            "Equal shared keys:  True (12996084809523629394514051528277907646157214696588934368221946377027750867172, 47702231816824386488716547623700688801070612267938441890918523438313681614316) on \"brainpoolP256r1\" => y^2 = x^3 + 56698187605326110043627228396178346077120614539475214109386828188763884139993x + 17577232497321838841075697789794520262950426058923084567046852300633325438902 (mod 76884956397045344220809746629001649093037950200943055203735601445031516197751)\n"
          ],
          "name": "stdout"
        }
      ]
    },
    {
      "cell_type": "markdown",
      "metadata": {
        "id": "bbbOwjrVTZs2",
        "colab_type": "text"
      },
      "source": [
        "## RSA\n",
        "### (m^e)^d % n = m for m in [0, n), n = p \\* q\n",
        "### Encryption: ciphertext = (plaintext ^ e) mod n\n",
        "### Decryption: decrypttext = (ciphertext ^ d) mod n"
      ]
    },
    {
      "cell_type": "code",
      "metadata": {
        "id": "7eWMGsX7yujl",
        "colab_type": "code",
        "colab": {}
      },
      "source": [
        "p = 11\n",
        "q = 13\n",
        "n = p * q # 143\n",
        "e = 7\n",
        "d = 103\n",
        "\n",
        "msg = 9\n",
        "\n",
        "# (m^e)^d % n = m\n",
        "for m in range(0, n):\n",
        "  print(pow(pow(m, e), d, n), m)\n",
        "\n",
        "cipher = pow(msg, e, n)\n",
        "decrypt = pow(cipher, d, n)\n",
        "print(msg, cipher, decrypt)\n",
        "\n",
        "\n",
        "for i in range(n):\n",
        "  cipher = pow(i, e, n)\n",
        "  decrypt = pow(cipher, d, n)\n",
        "  print(i, decrypt)\n",
        "  assert i == decrypt\n",
        "\n",
        "for i in range(n):\n",
        "  cipher = pow(i, d, n)\n",
        "  decrypt = pow(cipher, e, n)\n",
        "  print(i, decrypt)\n",
        "  assert i == decrypt\n",
        "  \n",
        "\n",
        "n = 0xa709e2f84ac0e21eb0caa018cf7f697f774e96f8115fc2359e9cf60b1dd8d4048d974cdf8422bef6be3c162b04b916f7ea2133f0e3e4e0eee164859bd9c1e0ef0357c142f4f633b4add4aab86c8f8895cd33fbf4e024d9a3ad6be6267570b4a72d2c34354e0139e74ada665a16a2611490debb8e131a6cffc7ef25e74240803dd71a4fcd953c988111b0aa9bbc4c57024fc5e8c4462ad9049c7f1abed859c63455fa6d58b5cc34a3d3206ff74b9e96c336dbacf0cdd18ed0c66796ce00ab07f36b24cbe3342523fd8215a8e77f89e86a08db911f237459388dee642dae7cb2644a03e71ed5c6fa5077cf4090fafa556048b536b879a88f628698f0c7b420c4b7\n",
        "e = 0x010001\n",
        "d = 0x10f22727e552e2c86ba06d7ed6de28326eef76d0128327cd64c5566368fdc1a9f740ad8dd221419a5550fc8c14b33fa9f058b9fa4044775aaf5c66a999a7da4d4fdb8141c25ee5294ea6a54331d045f25c9a5f7f47960acbae20fa27ab5669c80eaf235a1d0b1c22b8d750a191c0f0c9b3561aaa4934847101343920d84f24334d3af05fede0e355911c7db8b8de3bf435907c855c3d7eeede4f148df830b43dd360b43692239ac10e566f138fb4b30fb1af0603cfcf0cd8adf4349a0d0b93bf89804e7c2e24ca7615e51af66dccfdb71a1204e2107abbee4259f2cac917fafe3b029baf13c4dde7923c47ee3fec248390203a384b9eb773c154540c5196bce1\n",
        "\n",
        "for i in range(n):\n",
        "  cipher = pow(i, e, n)\n",
        "  decrypt = pow(cipher, d, n)\n",
        "  print(i, decrypt)\n",
        "  assert i == decrypt\n",
        "  if i > 100:\n",
        "    break\n",
        "\n"
      ],
      "execution_count": 0,
      "outputs": []
    },
    {
      "cell_type": "markdown",
      "metadata": {
        "id": "Gi1SFlXsTeTI",
        "colab_type": "text"
      },
      "source": [
        "## RSA_OAEP"
      ]
    },
    {
      "cell_type": "code",
      "metadata": {
        "id": "8Efohx7RJpcz",
        "colab_type": "code",
        "colab": {}
      },
      "source": [
        "from Crypto.PublicKey import RSA\n",
        "from Crypto.Cipher import PKCS1_OAEP\n",
        "import binascii\n",
        "\n",
        "\n",
        "key_pair = RSA.generate(3072)\n",
        "pub_key = key_pair.publickey()\n",
        "print(f'Public Key: n={hex(pub_key.n)}, e={hex(pub_key.e)}')\n",
        "pub_key_pem = pub_key.exportKey()\n",
        "print(pub_key_pem.decode('ascii'))\n",
        "\n",
        "\n",
        "print(f'Private Key: n={hex(pub_key.n)}, d={hex(key_pair.d)}')\n",
        "private_key_pem = key_pair.exportKey()\n",
        "print(private_key_pem.decode('ascii'))\n",
        "\n",
        "\n",
        "msg = '''So, so you think you can tell\n",
        "Heaven from hell\n",
        "Blue skies from pain\n",
        "Can you tell a green field\n",
        "From a cold steel rail?\n",
        "A smile from a veil?\n",
        "Do you think you can tell?\n",
        "Did they get you to trade\n",
        "'''\n",
        "\n",
        "encryptor = PKCS1_OAEP.new(pub_key)\n",
        "ciphertext = encryptor.encrypt(msg.encode('utf-8'))\n",
        "print(\"Encrypted: \", binascii.hexlify(ciphertext))\n",
        "\n",
        "decryptor = PKCS1_OAEP.new(key_pair)\n",
        "decrypted = decryptor.decrypt(ciphertext)\n",
        "print('Decrypted: ', decrypted.decode('utf-8'))\n"
      ],
      "execution_count": 0,
      "outputs": []
    },
    {
      "cell_type": "code",
      "metadata": {
        "id": "vHRNpGC1F86Y",
        "colab_type": "code",
        "colab": {}
      },
      "source": [
        "def fermat_theroem(a, prime):\n",
        "  return pow(a, prime-1, prime)\n",
        "\n",
        "print(fermat_theroem(12, 103))"
      ],
      "execution_count": 0,
      "outputs": []
    },
    {
      "cell_type": "markdown",
      "metadata": {
        "id": "MEYIj1-0pQ1H",
        "colab_type": "text"
      },
      "source": [
        "# Signature Standard PKCS#1 PSS(RSA)"
      ]
    },
    {
      "cell_type": "code",
      "metadata": {
        "id": "6MqPTf1rpQN6",
        "colab_type": "code",
        "colab": {}
      },
      "source": [
        "from Crypto.PublicKey import RSA\n",
        "from Crypto.Signature.pkcs1_15 import PKCS115_SigScheme\n",
        "from Crypto.Signature import pss\n",
        "\n",
        "from Crypto.Hash import SHA1\n",
        "from Crypto.Hash import SHA256\n",
        "import binascii\n",
        "\n",
        "#  private exponent:\n",
        "priv_exp = '''\n",
        "0x43,0x8f,0x19,0x83,0xb1,0x27,0x4e,0xee,\n",
        "0x98,0xba,0xcb,0x54,0xa0,0x77,0x11,0x6d,\n",
        "0xd4,0x25,0x31,0x8c,0xb0,0x01,0xcf,0xe6,\n",
        "0x80,0x83,0x14,0x40,0x67,0x39,0x33,0x67,\n",
        "0x03,0x1e,0xa0,0x8b,0xd1,0x1d,0xfd,0x80,\n",
        "0xa4,0xb9,0xe7,0x57,0x5e,0xc8,0x8e,0x79,\n",
        "0x71,0xd5,0x6b,0x09,0xe9,0x2b,0x41,0xa0,\n",
        "0x33,0x64,0xc9,0x66,0x33,0xa1,0xb1,0x55,\n",
        "0x07,0x55,0x98,0x53,0x10,0xe6,0xc0,0x39,\n",
        "0x6d,0x61,0xd9,0xe8,0x16,0x52,0x28,0xe4,\n",
        "0x2b,0xda,0x27,0x01,0xaf,0x21,0x4a,0xe8,\n",
        "0x55,0x1d,0x0b,0xd1,0x1c,0xdc,0xfd,0xb3,\n",
        "0x0b,0xa6,0x5c,0xcc,0x6e,0x77,0xb8,0xe0,\n",
        "0xd1,0x4e,0x0a,0xd7,0x7a,0x5e,0x18,0xc3,\n",
        "0xfb,0xe9,0xa1,0x9c,0xc3,0x9c,0xd4,0x4a,\n",
        "0x7e,0x70,0x72,0x11,0x18,0x24,0x56,0x24,\n",
        "0xdf,0xf8,0xba,0xac,0x5b,0x54,0xd3,0xc4,\n",
        "0x65,0x69,0xc8,0x79,0x94,0x16,0x88,0x9a,\n",
        "0x68,0x1c,0xbc,0xd4,0xca,0xec,0x5e,0x07,\n",
        "0x4a,0xc9,0x54,0x7a,0x4b,0xdb,0x19,0x88,\n",
        "0xf6,0xbe,0x50,0x9d,0x9e,0x9d,0x88,0x5b,\n",
        "0x4a,0x23,0x86,0x2b,0xa9,0xa6,0x6c,0x70,\n",
        "0x7d,0xe1,0x11,0xba,0xbf,0x03,0x2e,0xf1,\n",
        "0x46,0x7e,0x1b,0xed,0x06,0x11,0x57,0xad,\n",
        "0x4a,0xcb,0xe5,0xb1,0x11,0x05,0x0a,0x30,\n",
        "0xb1,0x73,0x79,0xcd,0x7a,0x04,0xcc,0x70,\n",
        "0xe9,0x95,0xe4,0x27,0xc2,0xd5,0x2d,0x92,\n",
        "0x44,0xdf,0xb4,0x94,0xa8,0x73,0xa1,0x4a,\n",
        "0xc3,0xcc,0xc4,0x0e,0x8d,0xa1,0x6a,0xc2,\n",
        "0xd8,0x03,0x7f,0xfa,0xa7,0x76,0x0d,0xad,\n",
        "0x87,0x88,0xa0,0x77,0xaf,0x3b,0x23,0xd1,\n",
        "0x66,0x0b,0x31,0x2b,0xaf,0xef,0xd5,0x41\n",
        "'''.replace('\\n', '')\n",
        "\n",
        "d = ''.join([hexb[2:] for hexb in priv_exp.strip().split(',')])\n",
        "print('d:', len(d), d)\n",
        "\n",
        "\n",
        "# signature\n",
        "signature = '''\n",
        "0x53,0x3a,0xb9,0x5b,0x14,0x4c,0x04,0x7c,\n",
        "0x1c,0x92,0x20,0x35,0xbc,0x6e,0x2c,0x13,\n",
        "0xc3,0x5b,0xf9,0xd3,0x35,0xa4,0x7f,0x6f,\n",
        "0xb0,0x75,0x16,0xa1,0xbf,0xdd,0x5b,0x0d,\n",
        "0x40,0x5d,0x7e,0xce,0xa9,0x2e,0x9e,0xc9,\n",
        "0xa2,0x5b,0x53,0x5a,0xe9,0x05,0x0a,0x28,\n",
        "0x4e,0x0e,0xf0,0xd5,0xa5,0x57,0x38,0x94,\n",
        "0x88,0xb3,0x0a,0x13,0xb8,0x39,0xdd,0x09,\n",
        "0xa6,0xad,0x4a,0xe3,0x29,0xff,0x6d,0x17,\n",
        "0x60,0x7f,0xba,0xd9,0xc3,0x02,0x68,0xf6,\n",
        "0x57,0xf2,0x69,0xb5,0x08,0x9d,0x6d,0xfd,\n",
        "0x69,0xfd,0x8c,0xfa,0x0a,0x97,0x3b,0xe0,\n",
        "0xef,0x99,0x82,0x19,0x56,0x49,0x99,0xc7,\n",
        "0x13,0x69,0x40,0x10,0xa8,0x7a,0x7e,0x64,\n",
        "0x26,0x5d,0xeb,0x78,0xcb,0x5d,0xe2,0x61,\n",
        "0x4f,0x8d,0x05,0xae,0x90,0x01,0x66,0xa6,\n",
        "0x2e,0x93,0xec,0xfd,0x3f,0x0b,0xe1,0x10,\n",
        "0xb5,0xed,0x38,0xfe,0x1f,0x7a,0x46,0xe7,\n",
        "0x5c,0x8a,0x9b,0x86,0x02,0x50,0xbf,0xdb,\n",
        "0x5f,0x66,0x9e,0x4e,0xe2,0x47,0x8c,0x6b,\n",
        "0x25,0x6d,0x50,0xcd,0xe3,0xa3,0x85,0xe7,\n",
        "0xc2,0x3f,0x77,0x43,0x78,0xfe,0x76,0x4e,\n",
        "0xb3,0x6c,0x13,0x90,0x34,0x67,0xd0,0x0e,\n",
        "0xf2,0xa1,0x64,0x2a,0xce,0xec,0x7f,0x56,\n",
        "0xee,0x6f,0xe2,0x8f,0x3d,0xac,0x8e,0xe6,\n",
        "0xee,0xf3,0xb9,0x81,0x5b,0x6e,0x8b,0x20,\n",
        "0xf6,0x1e,0xd8,0x61,0x1f,0x6d,0xee,0x7b,\n",
        "0x72,0x88,0x37,0x3a,0x93,0x4c,0x54,0x6d,\n",
        "0x67,0x9c,0xf4,0x7c,0xb7,0x68,0xb6,0x48,\n",
        "0xff,0x30,0xdf,0x64,0xf2,0x22,0x0e,0x73,\n",
        "0x28,0xa8,0x8d,0xe3,0xcb,0xd0,0x99,0x9d,\n",
        "0xde,0xeb,0x98,0xcd,0xd7,0x8a,0x63,0x37,\n",
        "'''.replace('\\n', '')\n",
        "\n",
        "sig = ''.join([hexb[2:] for hexb in signature.strip().split(',')])\n",
        "print('sig:', len(sig), sig)\n",
        "\n",
        "# RSA modulus\n",
        "\n",
        "rsa_modulus = '''\n",
        "0xa5,0xd0,0xd7,0x3e,0x0e,0x2d,0xfb,0x43,\n",
        "0x51,0x99,0xea,0x40,0x1e,0x2d,0x89,0xe4,\n",
        "0xa2,0x3e,0xfc,0x51,0x3d,0x0e,0x83,0xa7,\n",
        "0xe0,0xa5,0x41,0x04,0x1e,0x14,0xc5,0xa7,\n",
        "0x5c,0x61,0x36,0x44,0xb3,0x08,0x05,0x5b,\n",
        "0x14,0xde,0x01,0x0c,0x32,0x3c,0x9a,0x91,\n",
        "0x00,0x50,0xa8,0x1d,0xcc,0x9f,0x8f,0x35,\n",
        "0xb7,0xc2,0x75,0x08,0x32,0x8b,0x10,0x3a,\n",
        "0x86,0xf9,0xd7,0x78,0xa3,0x9d,0x74,0x10,\n",
        "0xc6,0x24,0xb1,0x7f,0xa5,0xbf,0x5f,0xc2,\n",
        "0xd7,0x15,0xa3,0x1d,0xe0,0x15,0x6b,0x1b,\n",
        "0x0e,0x38,0xba,0x34,0xbc,0x95,0x47,0x94,\n",
        "0x40,0x70,0xac,0x99,0x1f,0x0b,0x8e,0x56,\n",
        "0x93,0x36,0x2b,0x6d,0x04,0xe7,0x95,0x1a,\n",
        "0x37,0xda,0x16,0x57,0x99,0xee,0x03,0x68,\n",
        "0x16,0x31,0xaa,0xc3,0xb7,0x92,0x75,0x53,\n",
        "0xfc,0xf6,0x20,0x55,0x44,0xf8,0xd4,0x8d,\n",
        "0x78,0x15,0xc7,0x1a,0xb6,0xde,0x6c,0xe8,\n",
        "0x49,0x5d,0xaf,0xa8,0x4e,0x6f,0x7c,0xe2,\n",
        "0x6a,0x4c,0xd5,0xe7,0x8c,0x8f,0x0b,0x5d,\n",
        "0x3a,0x09,0xd6,0xb3,0x44,0xab,0xe0,0x35,\n",
        "0x52,0x7c,0x66,0x85,0xa4,0x40,0xd7,0x20,\n",
        "0xec,0x24,0x05,0x06,0xd9,0x84,0x51,0x5a,\n",
        "0xd2,0x38,0xd5,0x1d,0xea,0x70,0x2a,0x21,\n",
        "0xe6,0x82,0xfd,0xa4,0x46,0x1c,0x4f,0x59,\n",
        "0x6e,0x29,0x3d,0xae,0xb8,0x8e,0xee,0x77,\n",
        "0x1f,0x15,0x33,0xcf,0x94,0x1d,0x87,0x3c,\n",
        "0x37,0xc5,0x89,0xe8,0x7d,0x85,0xb3,0xbc,\n",
        "0xe8,0x62,0x6a,0x84,0x7f,0xfe,0x9a,0x85,\n",
        "0x3f,0x39,0xe8,0xaa,0x16,0xa6,0x8f,0x87,\n",
        "0x7f,0xcb,0xc1,0xd6,0xf2,0xec,0x2b,0xa7,\n",
        "0xdd,0x49,0x98,0x7b,0x6f,0xdd,0x69,0x6d\n",
        "'''.replace('\\n', '')\n",
        "\n",
        "n = ''.join([hexb[2:] for hexb in rsa_modulus.strip().split(',')])\n",
        "print('n:', len(n), n)\n",
        "\n",
        "pub_exp = '''0x00,0x01,0x00,0x01'''\n",
        "\n",
        "e = ''.join([hexb[2:] for hexb in pub_exp.strip().split(',')])\n",
        "print('e:', e, int(e, 16))\n",
        "\n",
        "Msg = b'HelloWorld'\n",
        "\n",
        "# SHA-1 digest\n",
        "sha1_digest = '''\n",
        "0xdb,0x8a,0xc1,0xc2,0x59,0xeb,0x89,0xd4,\n",
        "0xa1,0x31,0xb2,0x53,0xba,0xcf,0xca,0x5f,\n",
        "0x31,0x9d,0x54,0xf2\n",
        "'''.replace('\\n', '')\n",
        "\n",
        "digest = ''.join([hexb[2:] for hexb in sha1_digest.strip().split(',')])\n",
        "print(\"digest:\", digest)\n",
        "hash = SHA1.new(Msg)\n",
        "my_sha1 = hash.hexdigest()\n",
        "print(\"Msg hash:\", my_sha1, len(my_sha1), len(digest))\n",
        "assert digest == my_sha1\n",
        "\n",
        "n = int(n, 16)\n",
        "e = int(e, 16)\n",
        "d = int(d, 16)\n",
        "print('>>>', hex(n))\n",
        "\n",
        "key_pair = RSA.construct((n, e, d), consistency_check=True)\n",
        "signer = pss.new(key_pair)\n",
        "hash = SHA1.new(Msg)\n",
        "signature = signer.sign(hash)\n",
        "print('Signature: ', binascii.hexlify(signature))\n",
        "print(\"key_pair:\", key_pair)\n",
        "signer.verify(hash, signature)\n",
        "\n",
        "\n",
        "pub_key = RSA.construct((n, e), consistency_check=True)\n",
        "recvh = SHA1.new(Msg)\n",
        "print('recvh:', recvh.hexdigest())\n",
        "verifier = pss.new(pub_key)\n",
        "my_sig = binascii.unhexlify(sig)\n",
        "try:\n",
        "  verifier.verify(recvh, my_sig)\n",
        "  print(\"The signature is authentic.\")\n",
        "except:\n",
        "  print(\"the signature is not authentic.\")\n",
        "  \n",
        "  \n",
        "p = int('e7a80c5d211c06acb900939495f26d365fc2b4825b75e356f89003eaa5931e6be5c3f7e6a633ad59db6289d06c354c235e739a1e3f3d39fb40d1ffb9cb44288f', 16)\n",
        "q = int('d248aa248000f720258742da67b711940c8f76e1ecd52b67a6ffe1e49354d66ff84fa601804743f5838da2ed4693a5a28658d6528cc1803bf6c8dc73c5230b55', 16)\n",
        "n = int('be499b5e7f06c83fa0293e31465c8eb6b58af920bae52a7b5b9bfeb7aa72db1264112eb3fd431d31a2a7e50941566929494a0e891ed5613918b4b51b0d1fb97783b26acf7d0f384cfb35f4d2824f5dd380623a26bf180b63961c619dcdb20cae406f22f6e276c80a37259490cfeb72c1a71a84f1846d330877ba3e3101ec9c7b', 16)\n",
        "assert n == p * q\n"
      ],
      "execution_count": 0,
      "outputs": []
    },
    {
      "cell_type": "code",
      "metadata": {
        "id": "ak4qzqozx-KJ",
        "colab_type": "code",
        "outputId": "e04d3a37-998a-46d3-f0c2-d0b48323aa13",
        "colab": {
          "base_uri": "https://localhost:8080/",
          "height": 54
        }
      },
      "source": [
        "from Crypto.PublicKey import RSA\n",
        "from Crypto.Signature.pkcs1_15 import PKCS115_SigScheme\n",
        "from Crypto.Signature import pss\n",
        "from Crypto.Cipher import PKCS1_OAEP\n",
        "\n",
        "from Crypto.Hash import SHA1\n",
        "from Crypto.Hash import SHA256\n",
        "import binascii\n",
        "\n",
        "n = 'D1E79FF135D14E342D76185C23024E6DEAD4D6EC2C317A526C811E83538EA4E5ED8E1B0EEE5CE26E3C1B6A5F1FE11FA804F28B7E8821CA90AFA5B2F300DF99FDA27C9D2131E031EA11463C47944C05005EF4C1CE932D7F4A87C7563581D9F27F0C305023FCE94997EC7D790696E784357ED803A610EBB71B12A8BE5936429BFD'\n",
        "e = '010001'\n",
        "msg = 'foisdjfskjfsf'\n",
        "\n",
        "e = int(e, 16)\n",
        "n = int(n, 16)\n",
        "pub_key = RSA.construct((n, e), consistency_check=True)\n",
        "\n",
        "encryptor = PKCS1_OAEP.new(pub_key)\n",
        "ciphertext = encryptor.encrypt(msg.encode('utf-8'))\n",
        "print(\"Encrypted: \", binascii.hexlify(ciphertext))\n",
        "\n",
        "# decryptor = PKCS1_OAEP.new(key_pair)\n",
        "# decrypted = decryptor.decrypt(ciphertext)\n",
        "# print('Decrypted: ', decrypted.decode('utf-8'))\n"
      ],
      "execution_count": 0,
      "outputs": [
        {
          "output_type": "stream",
          "text": [
            "Encrypted:  b'798de11656128b0d6fea35aad9c0908b0873ac6f3037e408ae14985fc5d9c1f9a65b449e6ba86985ad4da9d485549299697cd650aa77c80280905747203732da2322aa5841401b178182ee027a0c3c680e65d1dce72dd75262deb234828a61f81ba7ab96ae04c761068d16618bfc5593a32234f2bc8bf0c011a58aade1f04ce7'\n"
          ],
          "name": "stdout"
        }
      ]
    },
    {
      "cell_type": "code",
      "metadata": {
        "id": "yrsWDuIsxzWO",
        "colab_type": "code",
        "colab": {}
      },
      "source": [
        ""
      ],
      "execution_count": 0,
      "outputs": []
    },
    {
      "cell_type": "code",
      "metadata": {
        "id": "o_FJJpVQaLIb",
        "colab_type": "code",
        "colab": {}
      },
      "source": [
        "from Crypto.PublicKey import RSA\n",
        "from Crypto.Signature.pkcs1_15 import PKCS115_SigScheme\n",
        "from Crypto.Signature.n import pss\n",
        "\n",
        "from Crypto.Hash import SHA1\n",
        "from Crypto.Hash import SHA256\n",
        "import binascii\n",
        "\n",
        "# signer\n",
        "n = 'bcb47b2e0dafcba81ff2a2b5cb115ca7e757184c9d72bcdcda707a146b3b4e29989ddc660bd694865b932b71ca24a335cf4d339c719183e6222e4c9ea6875acd528a49ba21863fe08147c3a47e41990b51a03f77d22137f8d74c43a5a45f4e9e18a2d15db051dc89385db9cf8374b63a8cc88113710e6d8179075b7dc79ee76b'\n",
        "e = '0000000000000000000000000000000000000000000000000000000000000000000000000000000000000000000000000000000000000000000000000000000000000000000000000000000000000000000000000000000000000000000000000000000000000000000000000000000000000000000000000000000000010001'\n",
        "d = '383a6f19e1ea27fd08c7fbc3bfa684bd6329888c0bbe4c98625e7181f411cfd0853144a3039404dda41bce2e31d588ec57c0e148146f0fa65b39008ba5835f829ba35ae2f155d61b8a12581b99c927fd2f22252c5e73cba4a610db3973e019ee0f95130d4319ed413432f2e5e20d5215cdd27c2164206b3f80edee51938a25c1'\n",
        "msg = '1248f62a4389f42f7b4bb131053d6c88a994db2075b912ccbe3ea7dc611714f14e075c104858f2f6e6cfd6abdedf015a821d03608bf4eba3169a6725ec422cd9069498b5515a9608ae7cc30e3d2ecfc1db6825f3e996ce9a5092926bc1cf61aa42d7f240e6f7aa0edb38bf81aa929d66bb5d890018088458720d72d569247b0c'\n",
        "sig = '682cf53c1145d22a50caa9eb1a9ba70670c5915e0fdfde6457a765de2a8fe12de9794172a78d14e668d498acedad616504bb1764d094607070080592c3a69c343d982bd77865873d35e24822caf43443cc10249af6a1e26ef344f28b9ef6f14e09ad839748e5148bcceb0fd2aa63709cb48975cbf9c7b49abc66a1dc6cb5b31a'\n",
        "salt_val = '6f2841166a64471d4f0b8ed0dbb7db32161da13b'\n",
        "\n",
        "e = int(e, 16)\n",
        "n = int(n, 16)\n",
        "\n",
        "\n",
        "sha1_hash = SHA1.new(binascii.unhexlify(msg))\n",
        "pub_key = RSA.construct((n, e), consistency_check=True)\n",
        "verifier = pss.new(pub_key, salt_bytes=len(salt_val)//2)\n",
        "sig_bin = binascii.unhexlify(sig)\n",
        "try:\n",
        "  verifeier.verify(sha1_hash, sig)\n",
        "  print(\"the signature is authentic.\")\n",
        "except:\n",
        "  print(\"the signature is not authentic.\")\n",
        "\n"
      ],
      "execution_count": 0,
      "outputs": []
    },
    {
      "cell_type": "code",
      "metadata": {
        "id": "kA4Z4fD6-JLd",
        "colab_type": "code",
        "outputId": "8913099e-de4b-414c-de2c-cfa74f7d0a42",
        "colab": {
          "base_uri": "https://localhost:8080/",
          "height": 52
        }
      },
      "source": [
        "\n",
        "from Crypto.Hash import SHA1\n",
        "from Crypto.Hash import SHA256\n",
        "\n",
        "sha1 = SHA1.new(b'HelloWorld')\n",
        "hexdigs = sha1.hexdigest()\n",
        "print(len(hexdigs), hexdigs)\n",
        "print( (20 + 0xF) & ~0xF)\n"
      ],
      "execution_count": 0,
      "outputs": [
        {
          "output_type": "stream",
          "text": [
            "40 db8ac1c259eb89d4a131b253bacfca5f319d54f2\n",
            "32\n"
          ],
          "name": "stdout"
        }
      ]
    },
    {
      "cell_type": "markdown",
      "metadata": {
        "id": "y75UGODaL1oX",
        "colab_type": "text"
      },
      "source": [
        "## ECC\n",
        "## http://safecurves.cr.yp.to/rho.html\n",
        "## y^2 ≡ x^3 + ax + b (mod p)\n",
        "## (x^3 + ax +b - y^2) % p = 0\n",
        "## point addition & doubling:\n",
        "## https://en.wikipedia.org/wiki/Elliptic_curve_point_multiplication"
      ]
    },
    {
      "cell_type": "code",
      "metadata": {
        "id": "4Sj7TcpOkKZW",
        "colab_type": "code",
        "colab": {}
      },
      "source": [
        "# http://safecurves.cr.yp.to/rho.html\n",
        "# ECC\n",
        "# y^2 ≡ x^3 + ax + b (mod p)\n",
        "# (x^3 + ax +b - y^2) % p = 0\n",
        "# point addition & doubling:\n",
        "# https://en.wikipedia.org/wiki/Elliptic_curve_point_multiplication\n",
        "\n",
        "'''Private Key, Public Key and the Generator Point in ECC\n",
        "In the ECC, when we multiply a fixed EC point G (the generator point) by certain integer k (k can be considered as private key), we obtain an EC point P (its corresponding public key).\n",
        "\n",
        "Consequently, in ECC we have:\n",
        "\n",
        "Еlliptic curve (EC) over finite field 𝔽p\n",
        "G == generator point (fixed constant, a base point on the EC)\n",
        "k == private key (integer)\n",
        "P == public key (point)'''\n",
        "\n",
        "# y^2 = x^3 + 7 (a = 0, b = 7), p = 17\n",
        "# (x^3 +7 - y^2) % 17 = 0\n",
        "x = 1\n",
        "y = 12\n",
        "print(pow(y, 2, 17), pow(x, 3) + 7)\n",
        "\n",
        "x = 8\n",
        "y = 3\n",
        "print(pow(y, 2, 17), (pow(x, 3) + 7) % 17)\n",
        "\n",
        "x = 8\n",
        "y = 14\n",
        "print(pow(y, 2, 17), (pow(x, 3) + 7) % 17)\n",
        "\n",
        "\n",
        "x = 15\n",
        "y = 4\n",
        "print(pow(y, 2, 17), (pow(x, 3) + 7) % 17)\n",
        "\n",
        "x = 15\n",
        "y = 13\n",
        "print(pow(y, 2, 17), (pow(x, 3) + 7) % 17)\n",
        "\n",
        "\n",
        "from tinyec import ec\n",
        "\n",
        "field = ec.SubGroup(p=17, g=(15,13), n=18, h=1)\n",
        "curve = ec.Curve(a=0, b=7, field=field, name='p1707')\n",
        "\n",
        "print('curve: ', curve)\n",
        "\n",
        "for k in range(0, 20):\n",
        "  p = k * curve.g\n",
        "  print(f'{k} * G = ({p.x}, {p.y})')\n",
        "  \n",
        "k = 9999999  \n",
        "p = k * curve.g\n",
        "print(f'{k} * G = ({p.x}, {p.y})')"
      ],
      "execution_count": 0,
      "outputs": []
    },
    {
      "cell_type": "code",
      "metadata": {
        "id": "UDOAJT4jjQLO",
        "colab_type": "code",
        "colab": {}
      },
      "source": [
        "from tinyec import ec\n",
        "\n",
        "# Domain parameters for the `secp256k1` curve\n",
        "# (as defined in http://www.secg.org/sec2-v2.pdf)\n",
        "name = 'secp256k1'\n",
        "p = 0xfffffffffffffffffffffffffffffffffffffffffffffffffffffffefffffc2f\n",
        "n = 0xfffffffffffffffffffffffffffffffebaaedce6af48a03bbfd25e8cd0364141\n",
        "a = 0x0000000000000000000000000000000000000000000000000000000000000000\n",
        "b = 0x0000000000000000000000000000000000000000000000000000000000000007\n",
        "g = (0x79be667ef9dcbbac55a06295ce870b07029bfcdb2dce28d959f2815b16f81798,\n",
        "     0x483ada7726a3c4655da4fbfc0e1108a8fd17b448a68554199c47d08ffb10d4b8)\n",
        "h = 1\n",
        "curve = ec.Curve(a, b, ec.SubGroup(p, g, n, h), name)\n",
        "print('curve:', curve)\n",
        "\n",
        "privKey = int('0x51897b64e85c3f714bba707e867914295a1377a7463a9dae8ea6a8b914246319', 16)\n",
        "print('privKey:', hex(privKey)[2:])\n",
        "\n",
        "pubKey = curve.g * privKey\n",
        "pubKeyCompressed = '0' + str(2 + pubKey.y % 2) + str(hex(pubKey.x)[2:])\n",
        "print('pubKey:', pubKeyCompressed)\n",
        "\n",
        "\n",
        "\n",
        "# https://www.quora.com/How-do-you-find-the-positive-integer-solutions-to-frac-x-y+z-+-frac-y-z+x-+-frac-z-x+y-4\n",
        "# y^2 = x^3 + 109*x^2 + 224*x\n"
      ],
      "execution_count": 0,
      "outputs": []
    },
    {
      "cell_type": "code",
      "metadata": {
        "id": "zqVFbNvcyuQD",
        "colab_type": "code",
        "colab": {}
      },
      "source": [
        "from nacl.public import PrivateKey\n",
        "import binascii\n",
        "\n",
        "# Curve25519\n",
        "priv_key = PrivateKey.generate()\n",
        "pub_key = priv_key.public_key\n",
        "print(\"private key: \", binascii.hexlify(bytes(priv_key)))\n",
        "print(\"public key: \", binascii.hexlify(bytes(pub_key)))\n"
      ],
      "execution_count": 0,
      "outputs": []
    },
    {
      "cell_type": "code",
      "metadata": {
        "id": "37Udda92K6R6",
        "colab_type": "code",
        "colab": {}
      },
      "source": [
        "!pip install cffi"
      ],
      "execution_count": 0,
      "outputs": []
    },
    {
      "cell_type": "code",
      "metadata": {
        "id": "JftHs18CQrYF",
        "colab_type": "code",
        "outputId": "5d562ee8-0049-482b-f0a6-5380280fda30",
        "colab": {
          "base_uri": "https://localhost:8080/",
          "height": 52
        }
      },
      "source": [
        "\n",
        "KEY = binascii.unhexlify('6ed76d2d97c69fd1339589523931f2a6cff554b15f738f21ec72dd97a7330907')\n",
        "IV = binascii.unhexlify('851e8764776e6796aab722dbb644ace8')\n",
        "PLAINTEXT = binascii.unhexlify('6282b8c05c5c1530b97d4816ca434762')\n",
        "CIPHERTEXT = binascii.unhexlify('6acc04142e100a65f51b97adf5172c41')\n",
        "\n",
        "aes = AES.new(KEY, AES.MODE_CBC, iv=IV)\n",
        "cipher = aes.encrypt(PLAINTEXT)\n",
        "print('cipher:', binascii.hexlify(cipher))\n",
        "\n",
        "d = AES.new(KEY, AES.MODE_CBC, iv=IV)\n",
        "p = d.decrypt(CIPHERTEXT)\n",
        "print('plain:', binascii.hexlify(p))"
      ],
      "execution_count": 0,
      "outputs": [
        {
          "output_type": "stream",
          "text": [
            "cipher: b'6acc04142e100a65f51b97adf5172c41'\n",
            "plain: b'6282b8c05c5c1530b97d4816ca434762'\n"
          ],
          "name": "stdout"
        }
      ]
    }
  ]
}